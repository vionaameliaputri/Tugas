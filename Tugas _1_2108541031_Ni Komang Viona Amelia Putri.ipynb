{
 "cells": [
  {
   "cell_type": "markdown",
   "id": "7122d1aa",
   "metadata": {},
   "source": [
    "# 5.1 Print"
   ]
  },
  {
   "cell_type": "code",
   "execution_count": 2,
   "id": "89c72a13",
   "metadata": {},
   "outputs": [
    {
     "name": "stdout",
     "output_type": "stream",
     "text": [
      "hello there!!!\n"
     ]
    }
   ],
   "source": [
    "print('hello there!!!')"
   ]
  },
  {
   "cell_type": "code",
   "execution_count": 1,
   "id": "2d96b8fe",
   "metadata": {},
   "outputs": [
    {
     "name": "stdout",
     "output_type": "stream",
     "text": [
      "viona is here :D\n"
     ]
    }
   ],
   "source": [
    "print(\"viona is here :D\")"
   ]
  },
  {
   "cell_type": "code",
   "execution_count": 3,
   "id": "f5712784",
   "metadata": {},
   "outputs": [
    {
     "name": "stdout",
     "output_type": "stream",
     "text": [
      "Soooo......\n"
     ]
    }
   ],
   "source": [
    "print(\"Soooo......\")"
   ]
  },
  {
   "cell_type": "code",
   "execution_count": 4,
   "id": "e40586b0",
   "metadata": {},
   "outputs": [
    {
     "name": "stdout",
     "output_type": "stream",
     "text": [
      "you can keep me...\n"
     ]
    }
   ],
   "source": [
    "print(\"you can keep me...\")"
   ]
  },
  {
   "cell_type": "code",
   "execution_count": 5,
   "id": "b6151454",
   "metadata": {},
   "outputs": [
    {
     "name": "stdout",
     "output_type": "stream",
     "text": [
      "EHEHEHEEHHEHEHEHEHE :*\n"
     ]
    }
   ],
   "source": [
    "print('EHEHEHEEHHEHEHEHEHE :*')"
   ]
  },
  {
   "cell_type": "code",
   "execution_count": 2,
   "id": "55ac7608",
   "metadata": {},
   "outputs": [
    {
     "name": "stdout",
     "output_type": "stream",
     "text": [
      "LIFE IS NEVER FLAT\n"
     ]
    }
   ],
   "source": [
    "print(\"LIFE IS NEVER FLAT\")"
   ]
  },
  {
   "cell_type": "code",
   "execution_count": 3,
   "id": "72491a07",
   "metadata": {},
   "outputs": [
    {
     "name": "stdout",
     "output_type": "stream",
     "text": [
      "Algorithm is really \"funny\"\n"
     ]
    }
   ],
   "source": [
    "print('Algorithm is really \"funny\"')"
   ]
  },
  {
   "cell_type": "code",
   "execution_count": 4,
   "id": "108da458",
   "metadata": {},
   "outputs": [
    {
     "name": "stdout",
     "output_type": "stream",
     "text": [
      "84\n",
      "100000\n",
      "8400000\n"
     ]
    }
   ],
   "source": [
    "jumlah_mahasiswa = 84\n",
    "uang_di_dompet = 100000\n",
    "print(jumlah_mahasiswa)\n",
    "print(uang_di_dompet)\n",
    "total_uang = (jumlah_mahasiswa*uang_di_dompet)\n",
    "print(total_uang)"
   ]
  },
  {
   "cell_type": "code",
   "execution_count": 5,
   "id": "deb09759",
   "metadata": {},
   "outputs": [
    {
     "name": "stdout",
     "output_type": "stream",
     "text": [
      "Ni Komang Viona Amelia Putri\n"
     ]
    }
   ],
   "source": [
    "nama_depan = 'Ni Komang '\n",
    "nama_tengah = 'Viona Amelia '\n",
    "nama_belakang = 'Putri'\n",
    "print(nama_depan + nama_tengah + nama_belakang)"
   ]
  },
  {
   "cell_type": "markdown",
   "id": "eeb4b684",
   "metadata": {},
   "source": [
    "# 5.2 Input"
   ]
  },
  {
   "cell_type": "code",
   "execution_count": 6,
   "id": "3eee948b",
   "metadata": {},
   "outputs": [
    {
     "name": "stdout",
     "output_type": "stream",
     "text": [
      "who's your name? Viona\n",
      "what are you doing now, Viona? Studying\n",
      "keep fight Viona! \n"
     ]
    }
   ],
   "source": [
    "nama = input(\"who's your name? \")\n",
    "kegiatan = input('what are you doing now, '+ nama + \"? \")\n",
    "print(\"keep fight \" + nama + \"! \" )"
   ]
  },
  {
   "cell_type": "markdown",
   "id": "fc704175",
   "metadata": {},
   "source": [
    "# 5.3 Tipe Data pada Python"
   ]
  },
  {
   "cell_type": "markdown",
   "id": "9a2d1e40",
   "metadata": {},
   "source": [
    "(str) (int)"
   ]
  },
  {
   "cell_type": "code",
   "execution_count": 7,
   "id": "7aa12069",
   "metadata": {},
   "outputs": [
    {
     "name": "stdout",
     "output_type": "stream",
     "text": [
      "Berapa jumlah uang di dompet lo? 50000\n",
      "Eh saldo lo di Bank berapa? 1000000\n",
      "Total uang yang dimiliki adalah 500001000000\n"
     ]
    }
   ],
   "source": [
    "uang_di_dompet = input(\"Berapa jumlah uang di dompet lo? \")\n",
    "uang_di_bank = input(\"Eh saldo lo di Bank berapa? \")\n",
    "print(\"Total uang yang dimiliki adalah \"+ uang_di_dompet + uang_di_bank)"
   ]
  },
  {
   "cell_type": "code",
   "execution_count": 15,
   "id": "31d39846",
   "metadata": {},
   "outputs": [
    {
     "name": "stdout",
     "output_type": "stream",
     "text": [
      "Total uang yang dimiliki adalah Rp 2500000\n"
     ]
    }
   ],
   "source": [
    "uang_di_dompet = 500000\n",
    "uang_di_bank = 2000000\n",
    "total_uang = int(uang_di_dompet) + (uang_di_bank)\n",
    "print(\"Total uang yang dimiliki adalah Rp \" + str(total_uang))"
   ]
  },
  {
   "cell_type": "code",
   "execution_count": 14,
   "id": "12d3cf96",
   "metadata": {},
   "outputs": [
    {
     "name": "stdout",
     "output_type": "stream",
     "text": [
      "Berapa jumlah uang di dompet lo? 500000\n",
      "Eh saldo lo di Bank berapa? 2000000\n",
      "Total uang yang dimiliki adalah Rp 2500000\n"
     ]
    }
   ],
   "source": [
    "uang_di_dompet = input(\"Berapa jumlah uang di dompet lo? \")\n",
    "uang_di_bank = input(\"Eh saldo lo di Bank berapa? \")\n",
    "total_uang = int(uang_di_dompet) + int(uang_di_bank)\n",
    "print(\"Total uang yang dimiliki adalah Rp \" + str(total_uang))"
   ]
  },
  {
   "cell_type": "markdown",
   "id": "40076734",
   "metadata": {},
   "source": [
    "# Cara Melihat Tipe Data Tiap Variabel"
   ]
  },
  {
   "cell_type": "code",
   "execution_count": 11,
   "id": "178e8ae6",
   "metadata": {},
   "outputs": [
    {
     "data": {
      "text/plain": [
       "str"
      ]
     },
     "execution_count": 11,
     "metadata": {},
     "output_type": "execute_result"
    }
   ],
   "source": [
    "type(uang_di_dompet)"
   ]
  },
  {
   "cell_type": "code",
   "execution_count": 12,
   "id": "92c209ec",
   "metadata": {},
   "outputs": [
    {
     "data": {
      "text/plain": [
       "str"
      ]
     },
     "execution_count": 12,
     "metadata": {},
     "output_type": "execute_result"
    }
   ],
   "source": [
    "type(uang_di_bank)"
   ]
  },
  {
   "cell_type": "code",
   "execution_count": 13,
   "id": "eae375e2",
   "metadata": {},
   "outputs": [
    {
     "data": {
      "text/plain": [
       "int"
      ]
     },
     "execution_count": 13,
     "metadata": {},
     "output_type": "execute_result"
    }
   ],
   "source": [
    "type(total_uang)"
   ]
  },
  {
   "cell_type": "markdown",
   "id": "ee1eb4d2",
   "metadata": {},
   "source": [
    "# Contoh Program penjumlahan dua bilangan dengan menggunakan perintah input dan print"
   ]
  },
  {
   "cell_type": "markdown",
   "id": "ca15a8b9",
   "metadata": {},
   "source": [
    "(float)"
   ]
  },
  {
   "cell_type": "code",
   "execution_count": 20,
   "id": "dc38f8bc",
   "metadata": {},
   "outputs": [
    {
     "name": "stdout",
     "output_type": "stream",
     "text": [
      "Masukkan bilangan genap <= 10 : 8\n",
      "Masukkan bilangan ganjil <= 10 : 5\n",
      "Hasil penjumlahannya adalah 13.0\n"
     ]
    }
   ],
   "source": [
    "bilangan_genap = input(\"Masukkan bilangan genap <= 10 : \")\n",
    "bilangan_ganjil = input(\"Masukkan bilangan ganjil <= 10 : \")\n",
    "jumlah = float(bilangan_genap) + float(bilangan_ganjil)\n",
    "print(\"Hasil penjumlahannya adalah \" + str(jumlah)) "
   ]
  },
  {
   "cell_type": "markdown",
   "id": "0941abe6",
   "metadata": {},
   "source": [
    "# 5.4 Formatted String"
   ]
  },
  {
   "cell_type": "code",
   "execution_count": 29,
   "id": "d6f5e4fc",
   "metadata": {},
   "outputs": [
    {
     "name": "stdout",
     "output_type": "stream",
     "text": [
      "Seorang gadis bernama Viona berumur 18 tahun adalah seorang mahasiswi di Universitas Udayana.\n"
     ]
    }
   ],
   "source": [
    "nama = \"Viona\"\n",
    "umur = \"18 tahun\"\n",
    "pekerjaan = \"mahasiswi\"\n",
    "institusi = \"Universitas Udayana\"\n",
    "print(\"Seorang gadis bernama \" + nama + \" berumur \" + umur + \" adalah seorang \" + pekerjaan + \" di \" + institusi + \".\" )"
   ]
  },
  {
   "cell_type": "code",
   "execution_count": 32,
   "id": "8fd44ee8",
   "metadata": {},
   "outputs": [
    {
     "name": "stdout",
     "output_type": "stream",
     "text": [
      "Seorang gadis bernama Viona berumur 18 tahun adalah seorang mahasiswi di Universitas Udayana.\n"
     ]
    }
   ],
   "source": [
    "print(f\"Seorang gadis bernama {nama} berumur {umur} adalah seorang {pekerjaan} di {institusi}.\")"
   ]
  },
  {
   "cell_type": "code",
   "execution_count": 33,
   "id": "581eecb9",
   "metadata": {},
   "outputs": [
    {
     "name": "stdout",
     "output_type": "stream",
     "text": [
      "Seorang gadis bernama Viona berumur 18 tahun adalah seorang mahasiswi di Universitas Udayana.\n"
     ]
    }
   ],
   "source": [
    "print(f'Seorang gadis bernama {nama} berumur {umur} adalah seorang {pekerjaan} di {institusi}.')"
   ]
  },
  {
   "cell_type": "markdown",
   "id": "d4ce70b7",
   "metadata": {},
   "source": [
    "# 5.5 String Index"
   ]
  },
  {
   "cell_type": "code",
   "execution_count": 36,
   "id": "2198dcb5",
   "metadata": {},
   "outputs": [],
   "source": [
    "kelas = \"kelas algoritma matematika\""
   ]
  },
  {
   "cell_type": "code",
   "execution_count": 37,
   "id": "b0155c59",
   "metadata": {},
   "outputs": [
    {
     "name": "stdout",
     "output_type": "stream",
     "text": [
      "kelas\n"
     ]
    }
   ],
   "source": [
    "print(kelas[0:5])"
   ]
  },
  {
   "cell_type": "code",
   "execution_count": 38,
   "id": "3276d53c",
   "metadata": {},
   "outputs": [
    {
     "name": "stdout",
     "output_type": "stream",
     "text": [
      "las algoritma matema\n"
     ]
    }
   ],
   "source": [
    "print(kelas[2:-4])"
   ]
  },
  {
   "cell_type": "code",
   "execution_count": 44,
   "id": "9600b64b",
   "metadata": {},
   "outputs": [
    {
     "name": "stdout",
     "output_type": "stream",
     "text": [
      "ea loim aeai\n"
     ]
    }
   ],
   "source": [
    "print(kelas[1:-2:2])"
   ]
  },
  {
   "cell_type": "code",
   "execution_count": 45,
   "id": "70028b01",
   "metadata": {},
   "outputs": [
    {
     "name": "stdout",
     "output_type": "stream",
     "text": [
      "kelas algoritma matem\n"
     ]
    }
   ],
   "source": [
    "print(kelas[:-5])"
   ]
  },
  {
   "cell_type": "code",
   "execution_count": 46,
   "id": "54693932",
   "metadata": {},
   "outputs": [
    {
     "name": "stdout",
     "output_type": "stream",
     "text": [
      "kel\n"
     ]
    }
   ],
   "source": [
    "print(kelas[:3])"
   ]
  },
  {
   "cell_type": "code",
   "execution_count": 47,
   "id": "c4b279d7",
   "metadata": {},
   "outputs": [
    {
     "name": "stdout",
     "output_type": "stream",
     "text": [
      "kelas algoritma matematika\n"
     ]
    }
   ],
   "source": [
    "print(kelas[:])"
   ]
  },
  {
   "cell_type": "markdown",
   "id": "63ccebd7",
   "metadata": {},
   "source": [
    "# 5.6 Strings Methods"
   ]
  },
  {
   "cell_type": "code",
   "execution_count": 11,
   "id": "15d75922",
   "metadata": {},
   "outputs": [],
   "source": [
    "guess_who = \"the cutest girl in the world\""
   ]
  },
  {
   "cell_type": "code",
   "execution_count": 12,
   "id": "51866025",
   "metadata": {},
   "outputs": [
    {
     "name": "stdout",
     "output_type": "stream",
     "text": [
      "28\n"
     ]
    }
   ],
   "source": [
    "print(len(guess_who))"
   ]
  },
  {
   "cell_type": "code",
   "execution_count": 13,
   "id": "14699a51",
   "metadata": {},
   "outputs": [
    {
     "data": {
      "text/plain": [
       "'THE CUTEST GIRL IN THE WORLD'"
      ]
     },
     "execution_count": 13,
     "metadata": {},
     "output_type": "execute_result"
    }
   ],
   "source": [
    "guess_who.upper()"
   ]
  },
  {
   "cell_type": "code",
   "execution_count": 14,
   "id": "baacbabf",
   "metadata": {},
   "outputs": [
    {
     "data": {
      "text/plain": [
       "'the cutest girl in the world'"
      ]
     },
     "execution_count": 14,
     "metadata": {},
     "output_type": "execute_result"
    }
   ],
   "source": [
    "guess_who.lower()"
   ]
  },
  {
   "cell_type": "code",
   "execution_count": 15,
   "id": "6c30c9f7",
   "metadata": {},
   "outputs": [
    {
     "data": {
      "text/plain": [
       "-1"
      ]
     },
     "execution_count": 15,
     "metadata": {},
     "output_type": "execute_result"
    }
   ],
   "source": [
    "guess_who.find(\"Vayona\")"
   ]
  },
  {
   "cell_type": "code",
   "execution_count": 20,
   "id": "42193bd9",
   "metadata": {},
   "outputs": [
    {
     "data": {
      "text/plain": [
       "4"
      ]
     },
     "execution_count": 20,
     "metadata": {},
     "output_type": "execute_result"
    }
   ],
   "source": [
    "guess_who.find(\"cutest\")"
   ]
  },
  {
   "cell_type": "code",
   "execution_count": 21,
   "id": "13b43604",
   "metadata": {},
   "outputs": [
    {
     "data": {
      "text/plain": [
       "11"
      ]
     },
     "execution_count": 21,
     "metadata": {},
     "output_type": "execute_result"
    }
   ],
   "source": [
    "guess_who.find(\"girl\")"
   ]
  },
  {
   "cell_type": "code",
   "execution_count": 22,
   "id": "606de75f",
   "metadata": {},
   "outputs": [
    {
     "data": {
      "text/plain": [
       "16"
      ]
     },
     "execution_count": 22,
     "metadata": {},
     "output_type": "execute_result"
    }
   ],
   "source": [
    "guess_who.find(\"in the world\")"
   ]
  },
  {
   "cell_type": "code",
   "execution_count": 23,
   "id": "0c211675",
   "metadata": {},
   "outputs": [
    {
     "data": {
      "text/plain": [
       "-1"
      ]
     },
     "execution_count": 23,
     "metadata": {},
     "output_type": "execute_result"
    }
   ],
   "source": [
    "guess_who.find(\"Cutest\")"
   ]
  },
  {
   "cell_type": "code",
   "execution_count": 24,
   "id": "12c3aea9",
   "metadata": {},
   "outputs": [
    {
     "data": {
      "text/plain": [
       "'the prettiest girl in the world'"
      ]
     },
     "execution_count": 24,
     "metadata": {},
     "output_type": "execute_result"
    }
   ],
   "source": [
    "guess_who.replace(\"cutest\" , \"prettiest\")"
   ]
  },
  {
   "cell_type": "code",
   "execution_count": 25,
   "id": "1de67871",
   "metadata": {},
   "outputs": [
    {
     "data": {
      "text/plain": [
       "'the cutest girl in the world'"
      ]
     },
     "execution_count": 25,
     "metadata": {},
     "output_type": "execute_result"
    }
   ],
   "source": [
    "guess_who.replace(\"Cutest\" , \"prettiest\")"
   ]
  },
  {
   "cell_type": "code",
   "execution_count": 26,
   "id": "d3d0da98",
   "metadata": {},
   "outputs": [
    {
     "name": "stdout",
     "output_type": "stream",
     "text": [
      "True\n"
     ]
    }
   ],
   "source": [
    "print(\"cutest\" in guess_who)"
   ]
  },
  {
   "cell_type": "code",
   "execution_count": 28,
   "id": "7b146afe",
   "metadata": {},
   "outputs": [
    {
     "name": "stdout",
     "output_type": "stream",
     "text": [
      "False\n"
     ]
    }
   ],
   "source": [
    "print(\"Girl\" in guess_who)"
   ]
  },
  {
   "cell_type": "markdown",
   "id": "fe9c07f9",
   "metadata": {},
   "source": [
    "# 5.7 Operasi Matematika di Python"
   ]
  },
  {
   "cell_type": "markdown",
   "id": "179272db",
   "metadata": {},
   "source": [
    "     Penjumlahan (+), contoh: 2+5 = 7\n",
    " \n",
    "     Pengurangan (-), contoh: 2-5 = -3\n",
    " \n",
    "     Perkalian (*), contoh: 2*5 = 10\n",
    " \n",
    "     Pembagian (/), contoh: 8/3 = 2.6666\n",
    " \n",
    "     Pembulatan pembagian (//), contoh: 8//3 = 2\n",
    " \n",
    "     Modulo (%), contoh: 8%3 = 2\n",
    " \n",
    "     Pemangkatan (**), contoh: 2**3 = 8\n",
    " \n",
    "     Augmented operator: contoh: x = 3, x+ = 1 artinya x = x + 1. Berlaku juga pada pengurangan dan perkalian."
   ]
  },
  {
   "cell_type": "code",
   "execution_count": 63,
   "id": "e9c28817",
   "metadata": {},
   "outputs": [
    {
     "name": "stdout",
     "output_type": "stream",
     "text": [
      "7\n"
     ]
    }
   ],
   "source": [
    "print(2+5)"
   ]
  },
  {
   "cell_type": "code",
   "execution_count": 64,
   "id": "6cea788d",
   "metadata": {},
   "outputs": [
    {
     "name": "stdout",
     "output_type": "stream",
     "text": [
      "-3\n"
     ]
    }
   ],
   "source": [
    "print(2-5)"
   ]
  },
  {
   "cell_type": "code",
   "execution_count": 65,
   "id": "20e4eba5",
   "metadata": {},
   "outputs": [
    {
     "name": "stdout",
     "output_type": "stream",
     "text": [
      "10\n"
     ]
    }
   ],
   "source": [
    "print(2*5)"
   ]
  },
  {
   "cell_type": "code",
   "execution_count": 66,
   "id": "e919b9ac",
   "metadata": {},
   "outputs": [
    {
     "name": "stdout",
     "output_type": "stream",
     "text": [
      "2.6666666666666665\n"
     ]
    }
   ],
   "source": [
    "print(8/3)"
   ]
  },
  {
   "cell_type": "code",
   "execution_count": 67,
   "id": "f46f29da",
   "metadata": {},
   "outputs": [
    {
     "name": "stdout",
     "output_type": "stream",
     "text": [
      "2\n"
     ]
    }
   ],
   "source": [
    "print(8//3)"
   ]
  },
  {
   "cell_type": "code",
   "execution_count": 68,
   "id": "522003cf",
   "metadata": {},
   "outputs": [
    {
     "name": "stdout",
     "output_type": "stream",
     "text": [
      "2\n"
     ]
    }
   ],
   "source": [
    "print(8%3)"
   ]
  },
  {
   "cell_type": "code",
   "execution_count": 69,
   "id": "7b9a3390",
   "metadata": {},
   "outputs": [
    {
     "name": "stdout",
     "output_type": "stream",
     "text": [
      "8\n"
     ]
    }
   ],
   "source": [
    "print(2**3)"
   ]
  },
  {
   "cell_type": "code",
   "execution_count": 72,
   "id": "caa45777",
   "metadata": {},
   "outputs": [
    {
     "name": "stdout",
     "output_type": "stream",
     "text": [
      "7\n"
     ]
    }
   ],
   "source": [
    "x=3\n",
    "x+=4\n",
    "print(x)"
   ]
  },
  {
   "cell_type": "code",
   "execution_count": 73,
   "id": "231b2580",
   "metadata": {},
   "outputs": [
    {
     "name": "stdout",
     "output_type": "stream",
     "text": [
      "5\n"
     ]
    }
   ],
   "source": [
    "x=8\n",
    "x-=3\n",
    "print(x)"
   ]
  },
  {
   "cell_type": "code",
   "execution_count": 74,
   "id": "f48b4a18",
   "metadata": {},
   "outputs": [
    {
     "name": "stdout",
     "output_type": "stream",
     "text": [
      "8\n"
     ]
    }
   ],
   "source": [
    "x=2\n",
    "x*=4\n",
    "print(x)"
   ]
  },
  {
   "cell_type": "markdown",
   "id": "416e5240",
   "metadata": {},
   "source": [
    "# 5.8 Operator Perbandingan di Python"
   ]
  },
  {
   "cell_type": "markdown",
   "id": "ee4c1b76",
   "metadata": {},
   "source": [
    "Lebih besar (>), contoh: x = 8 > 5\n",
    "\n",
    "Lebih kecil (<), contoh: x = 5 < 8\n",
    "\n",
    "Lebih besar sama dengan (>=), contoh: x = 8 >= 5\n",
    "\n",
    "Lebih kecil sama dengan (<=), contoh: x = 5 <= 8\n",
    "\n",
    "Sama dengan (==), contoh: x = 5 == 5\n",
    "\n",
    "Tidak sama dengan (!=), contoh: x = 5 != 7"
   ]
  },
  {
   "cell_type": "code",
   "execution_count": 75,
   "id": "7f6235a9",
   "metadata": {},
   "outputs": [
    {
     "name": "stdout",
     "output_type": "stream",
     "text": [
      "True\n"
     ]
    }
   ],
   "source": [
    "x=8>5\n",
    "print(x)"
   ]
  },
  {
   "cell_type": "code",
   "execution_count": 82,
   "id": "802931f0",
   "metadata": {},
   "outputs": [
    {
     "name": "stdout",
     "output_type": "stream",
     "text": [
      "False\n"
     ]
    }
   ],
   "source": [
    "x=5>8\n",
    "print(x)"
   ]
  },
  {
   "cell_type": "code",
   "execution_count": 76,
   "id": "08a3fd45",
   "metadata": {},
   "outputs": [
    {
     "name": "stdout",
     "output_type": "stream",
     "text": [
      "True\n"
     ]
    }
   ],
   "source": [
    "x=5<8\n",
    "print(x)"
   ]
  },
  {
   "cell_type": "code",
   "execution_count": 83,
   "id": "470945d6",
   "metadata": {},
   "outputs": [
    {
     "name": "stdout",
     "output_type": "stream",
     "text": [
      "False\n"
     ]
    }
   ],
   "source": [
    "x=8<5\n",
    "print(x)"
   ]
  },
  {
   "cell_type": "code",
   "execution_count": 77,
   "id": "1c2f3a39",
   "metadata": {},
   "outputs": [
    {
     "name": "stdout",
     "output_type": "stream",
     "text": [
      "True\n"
     ]
    }
   ],
   "source": [
    "x=8>=5\n",
    "print(x)"
   ]
  },
  {
   "cell_type": "code",
   "execution_count": 84,
   "id": "65a03a7f",
   "metadata": {},
   "outputs": [
    {
     "name": "stdout",
     "output_type": "stream",
     "text": [
      "False\n"
     ]
    }
   ],
   "source": [
    "x=5>=8\n",
    "print(x)"
   ]
  },
  {
   "cell_type": "code",
   "execution_count": 79,
   "id": "76083c73",
   "metadata": {},
   "outputs": [
    {
     "name": "stdout",
     "output_type": "stream",
     "text": [
      "True\n"
     ]
    }
   ],
   "source": [
    "x=5<=8\n",
    "print(x)"
   ]
  },
  {
   "cell_type": "code",
   "execution_count": 85,
   "id": "27a559b8",
   "metadata": {},
   "outputs": [
    {
     "name": "stdout",
     "output_type": "stream",
     "text": [
      "False\n"
     ]
    }
   ],
   "source": [
    "x=8<=5\n",
    "print(x)"
   ]
  },
  {
   "cell_type": "code",
   "execution_count": 80,
   "id": "a748891a",
   "metadata": {},
   "outputs": [
    {
     "name": "stdout",
     "output_type": "stream",
     "text": [
      "True\n"
     ]
    }
   ],
   "source": [
    "x=5==5\n",
    "print(x)"
   ]
  },
  {
   "cell_type": "code",
   "execution_count": 86,
   "id": "bb50901a",
   "metadata": {},
   "outputs": [
    {
     "name": "stdout",
     "output_type": "stream",
     "text": [
      "False\n"
     ]
    }
   ],
   "source": [
    "x=5==6\n",
    "print(x)"
   ]
  },
  {
   "cell_type": "code",
   "execution_count": 81,
   "id": "af109af2",
   "metadata": {},
   "outputs": [
    {
     "name": "stdout",
     "output_type": "stream",
     "text": [
      "True\n"
     ]
    }
   ],
   "source": [
    "x=5!=7\n",
    "print(x)"
   ]
  },
  {
   "cell_type": "code",
   "execution_count": 87,
   "id": "94b937f7",
   "metadata": {},
   "outputs": [
    {
     "name": "stdout",
     "output_type": "stream",
     "text": [
      "False\n"
     ]
    }
   ],
   "source": [
    "x=5!=5\n",
    "print(x)"
   ]
  },
  {
   "cell_type": "markdown",
   "id": "e27ccc37",
   "metadata": {},
   "source": [
    "# 5.9 Operator Logika di Python"
   ]
  },
  {
   "cell_type": "markdown",
   "id": "22ed3af6",
   "metadata": {},
   "source": [
    "and, or, not"
   ]
  },
  {
   "cell_type": "code",
   "execution_count": 88,
   "id": "92599496",
   "metadata": {},
   "outputs": [
    {
     "name": "stdout",
     "output_type": "stream",
     "text": [
      "True\n"
     ]
    }
   ],
   "source": [
    "buah_naga = 20\n",
    "buah_alpukat = 10\n",
    "print(buah_naga > 15 and buah_alpukat < 20 )"
   ]
  },
  {
   "cell_type": "code",
   "execution_count": 89,
   "id": "6817ba95",
   "metadata": {},
   "outputs": [
    {
     "name": "stdout",
     "output_type": "stream",
     "text": [
      "True\n"
     ]
    }
   ],
   "source": [
    "print(buah_naga > 22 or buah_alpukat < 17)"
   ]
  },
  {
   "cell_type": "code",
   "execution_count": 90,
   "id": "1abc512c",
   "metadata": {},
   "outputs": [
    {
     "name": "stdout",
     "output_type": "stream",
     "text": [
      "False\n"
     ]
    }
   ],
   "source": [
    "print(buah_naga > 25 or buah_alpukat > 15)"
   ]
  },
  {
   "cell_type": "code",
   "execution_count": 92,
   "id": "5cf5d64b",
   "metadata": {},
   "outputs": [
    {
     "name": "stdout",
     "output_type": "stream",
     "text": [
      "True\n"
     ]
    }
   ],
   "source": [
    "print(not(buah_naga < 15 or buah_alpukat > 15))"
   ]
  },
  {
   "cell_type": "markdown",
   "id": "75795b8d",
   "metadata": {},
   "source": [
    "# 5.10 Operator if dalam Python"
   ]
  },
  {
   "cell_type": "code",
   "execution_count": 34,
   "id": "72b02a68",
   "metadata": {},
   "outputs": [
    {
     "name": "stdout",
     "output_type": "stream",
     "text": [
      "IPK anda adalah 4.0\n",
      "Anda mendapat nilai A\n",
      "Anda sangatlah Luar Biasa!\n"
     ]
    }
   ],
   "source": [
    "ipk = float(input(\"IPK anda adalah \"))\n",
    "if ipk >= 4.0:\n",
    "    print(\"Anda mendapat nilai A\")\n",
    "    print(\"Anda sangatlah Luar Biasa!\")\n",
    "if ipk < 4.0 and ipk >= 3.5:\n",
    "    print(\"Anda mendapat nilai B+\")\n",
    "    print(\"Prestasimu sudah sangat bagus!\")\n",
    "if ipk >= 3.0 and ipk < 3.5:\n",
    "    print(\"Anda mendapat nilai B\")\n",
    "    print(\"Sudah bagus! Ayo Tingkatkan lagi!\")\n",
    "if ipk >= 2.5 and ipk < 3.0:\n",
    "    print(\"Anda mendapat nilai C+\")\n",
    "    print(\"Lain kali musti lebih baik lagi yaaa!\")\n",
    "if ipk <= 2.5 and ipk < 2.0:\n",
    "    print(\"Anda mendapat nilai C\")\n",
    "    print(\"Coba lagi ok\")"
   ]
  },
  {
   "cell_type": "code",
   "execution_count": 36,
   "id": "59142b76",
   "metadata": {},
   "outputs": [
    {
     "name": "stdout",
     "output_type": "stream",
     "text": [
      "IPK anda adalah 2.4\n",
      "Anda mendapat nilai C\n",
      "Coba lagi ok\n"
     ]
    }
   ],
   "source": [
    "ipk = float(input(\"IPK anda adalah \"))\n",
    "if ipk >= 4.0:\n",
    "    print(\"Anda mendapat nilai A\")\n",
    "    print(\"Anda sangatlah Luar Biasa!\")\n",
    "elif ipk >= 3.5:\n",
    "    print(\"Anda mendapat nilai B+\")\n",
    "    print(\"Prestasimu sudah sangat bagus!\")\n",
    "elif ipk >= 3.0:\n",
    "    print(\"Anda mendapat nilai B\")\n",
    "    print(\"Sudah bagus! Ayo Tingkatkan lagi!\")\n",
    "elif ipk >= 2.5:\n",
    "    print(\"Anda mendapat nilai C+\")\n",
    "    print(\"Lain kali musti lebih baik lagi yaaa!\")\n",
    "else:\n",
    "    print(\"Anda mendapat nilai C\")\n",
    "    print(\"Coba lagi ok\")"
   ]
  },
  {
   "cell_type": "markdown",
   "id": "09665d24",
   "metadata": {},
   "source": [
    "# Latihan: Buatlah program yang merubah tinggi badan seseorang dari cm ke inci atau sebaliknya dari inci ke cm"
   ]
  },
  {
   "cell_type": "code",
   "execution_count": 46,
   "id": "851480c0",
   "metadata": {},
   "outputs": [
    {
     "name": "stdout",
     "output_type": "stream",
     "text": [
      "Tinggimu berapa, Viona? 160\n",
      "Tingginya dalam cm atau inci? cm\n",
      "Tinggi anda adalah 63.040000000000006 inci\n"
     ]
    }
   ],
   "source": [
    "tinggi = float(input(\"Tinggimu berapa, Viona? \"))\n",
    "cm_atau_inci = input(\"Tingginya dalam cm atau inci? \")\n",
    "if cm_atau_inci.upper() == 'CM':\n",
    "    tinggi = tinggi*0.394\n",
    "    print(\"Tinggi anda adalah \" + str(tinggi) + \" inci\")\n",
    "elif cm_atau_inci.upper() == \"INCI\" :\n",
    "    tinggi = tinggi/0.394\n",
    "    print(f\"Tinggi anda adalah {tinggi} cm\")"
   ]
  },
  {
   "cell_type": "markdown",
   "id": "5af12d6c",
   "metadata": {},
   "source": [
    "# 5.11 While loop"
   ]
  },
  {
   "cell_type": "code",
   "execution_count": 44,
   "id": "009c3f2b",
   "metadata": {},
   "outputs": [
    {
     "name": "stdout",
     "output_type": "stream",
     "text": [
      "Bilangan 0 masih dibawah 5\n",
      "Bilangan 1 masih dibawah 5\n",
      "Bilangan 2 masih dibawah 5\n",
      "Bilangan 3 masih dibawah 5\n",
      "Bilangan 4 masih dibawah 5\n"
     ]
    }
   ],
   "source": [
    "a = 0\n",
    "while a < 5 :\n",
    "    print(\"Bilangan \" + str(a) + \" masih dibawah 5\")\n",
    "    a += 1"
   ]
  },
  {
   "cell_type": "code",
   "execution_count": 47,
   "id": "d1e985ba",
   "metadata": {},
   "outputs": [
    {
     "name": "stdout",
     "output_type": "stream",
     "text": [
      "\n",
      "*\n",
      "**\n",
      "***\n",
      "****\n",
      "*****\n"
     ]
    }
   ],
   "source": [
    "a = 0\n",
    "while a < 6 :\n",
    "    print(a * '*')\n",
    "    a += 1"
   ]
  },
  {
   "cell_type": "markdown",
   "id": "3db7c3b1",
   "metadata": {},
   "source": [
    "# 5.12 List di Python"
   ]
  },
  {
   "cell_type": "code",
   "execution_count": 48,
   "id": "a8d972c3",
   "metadata": {},
   "outputs": [
    {
     "name": "stdout",
     "output_type": "stream",
     "text": [
      "['merah', 'kuning', 'hijau', 'biru']\n"
     ]
    }
   ],
   "source": [
    "warna = ['merah', 'kuning', 'hijau', 'biru']\n",
    "print(warna)"
   ]
  },
  {
   "cell_type": "code",
   "execution_count": 49,
   "id": "641dcc30",
   "metadata": {},
   "outputs": [
    {
     "name": "stdout",
     "output_type": "stream",
     "text": [
      "['Kim Namjoon', 'Kim Seokjin', 'Min Yoongi', 'Jung Hoseok', 'Park Jimin', 'Kim Taehyung', 'Jeon Jungkook']\n"
     ]
    }
   ],
   "source": [
    "bts = ['Kim Namjoon', 'Kim Seokjin', 'Min Yoongi', 'Jung Hoseok', 'Park Jimin', 'Kim Taehyung', 'Jeon Jungkook']\n",
    "print(bts)"
   ]
  },
  {
   "cell_type": "code",
   "execution_count": 50,
   "id": "67d37577",
   "metadata": {},
   "outputs": [
    {
     "name": "stdout",
     "output_type": "stream",
     "text": [
      "Kim Namjoon\n"
     ]
    }
   ],
   "source": [
    "print(bts[0])"
   ]
  },
  {
   "cell_type": "code",
   "execution_count": 51,
   "id": "35c5ec14",
   "metadata": {},
   "outputs": [
    {
     "name": "stdout",
     "output_type": "stream",
     "text": [
      "Jeon Jungkook\n"
     ]
    }
   ],
   "source": [
    "print(bts[-1])"
   ]
  },
  {
   "cell_type": "code",
   "execution_count": 52,
   "id": "95dd1e01",
   "metadata": {},
   "outputs": [
    {
     "name": "stdout",
     "output_type": "stream",
     "text": [
      "Park Jimin\n"
     ]
    }
   ],
   "source": [
    "print(bts[-3])"
   ]
  },
  {
   "cell_type": "code",
   "execution_count": 53,
   "id": "8768122f",
   "metadata": {},
   "outputs": [
    {
     "name": "stdout",
     "output_type": "stream",
     "text": [
      "Kim Taehyung\n"
     ]
    }
   ],
   "source": [
    "print(bts[5])"
   ]
  },
  {
   "cell_type": "code",
   "execution_count": 54,
   "id": "d6772b44",
   "metadata": {},
   "outputs": [
    {
     "name": "stdout",
     "output_type": "stream",
     "text": [
      "['Kim Namjoon', 'Kim Seokjin', 'Min Yoongi', 'Jung Hoseok', 'Park Jimin', 'V', 'Jeon Jungkook']\n"
     ]
    }
   ],
   "source": [
    "bts[5] = 'V'\n",
    "print(bts)"
   ]
  },
  {
   "cell_type": "code",
   "execution_count": 55,
   "id": "a479380a",
   "metadata": {},
   "outputs": [
    {
     "name": "stdout",
     "output_type": "stream",
     "text": [
      "['Kim Namjoon', 'Kim Seokjin', 'Min Yoongi', 'Jung Hoseok']\n"
     ]
    }
   ],
   "source": [
    "print(bts[0:4])"
   ]
  },
  {
   "cell_type": "code",
   "execution_count": 56,
   "id": "651b678f",
   "metadata": {},
   "outputs": [
    {
     "name": "stdout",
     "output_type": "stream",
     "text": [
      "['Kim Namjoon', 'Kim Seokjin', 'Min Yoongi', 'Jung Hoseok', 'Park Jimin', 'V', 'Jeon Jungkook']\n"
     ]
    }
   ],
   "source": [
    "# tidak merubah list\n",
    "print(bts)"
   ]
  },
  {
   "cell_type": "markdown",
   "id": "3dd1f888",
   "metadata": {},
   "source": [
    "# 5.13 Metoda List"
   ]
  },
  {
   "cell_type": "code",
   "execution_count": 58,
   "id": "1468d67e",
   "metadata": {},
   "outputs": [
    {
     "name": "stdout",
     "output_type": "stream",
     "text": [
      "['Liana', 'Dhea', 'Ce Meli', 'Viona']\n"
     ]
    }
   ],
   "source": [
    "prettiest_ofc= ['Liana', 'Dhea', 'Ce Meli']\n",
    "prettiest_ofc.append('Viona')\n",
    "print(prettiest_ofc)"
   ]
  },
  {
   "cell_type": "code",
   "execution_count": 60,
   "id": "6293e8be",
   "metadata": {},
   "outputs": [
    {
     "name": "stdout",
     "output_type": "stream",
     "text": [
      "['Angel', 'Liana', 'Dhea', 'Ce Meli', 'Viona']\n"
     ]
    }
   ],
   "source": [
    "prettiest_ofc.insert(0,'Angel')\n",
    "print(prettiest_ofc)"
   ]
  },
  {
   "cell_type": "code",
   "execution_count": 61,
   "id": "9c709d8e",
   "metadata": {},
   "outputs": [
    {
     "name": "stdout",
     "output_type": "stream",
     "text": [
      "['Liana', 'Dhea', 'Ce Meli', 'Viona']\n"
     ]
    }
   ],
   "source": [
    "prettiest_ofc.remove('Angel')\n",
    "print(prettiest_ofc)"
   ]
  },
  {
   "cell_type": "code",
   "execution_count": 62,
   "id": "f3cd9e8e",
   "metadata": {},
   "outputs": [
    {
     "name": "stdout",
     "output_type": "stream",
     "text": [
      "False\n"
     ]
    }
   ],
   "source": [
    "print('Angel' in prettiest_ofc)"
   ]
  },
  {
   "cell_type": "code",
   "execution_count": 63,
   "id": "4f0ca98f",
   "metadata": {},
   "outputs": [
    {
     "name": "stdout",
     "output_type": "stream",
     "text": [
      "True\n"
     ]
    }
   ],
   "source": [
    "print('Viona' in prettiest_ofc)"
   ]
  },
  {
   "cell_type": "code",
   "execution_count": 64,
   "id": "902b4c6d",
   "metadata": {},
   "outputs": [
    {
     "name": "stdout",
     "output_type": "stream",
     "text": [
      "4\n"
     ]
    }
   ],
   "source": [
    "print(len(prettiest_ofc))"
   ]
  },
  {
   "cell_type": "markdown",
   "id": "bd950643",
   "metadata": {},
   "source": [
    "# 5.14 For loop"
   ]
  },
  {
   "cell_type": "code",
   "execution_count": 66,
   "id": "e10cf83d",
   "metadata": {},
   "outputs": [
    {
     "name": "stdout",
     "output_type": "stream",
     "text": [
      "Buffalo\n",
      "Manila\n",
      "Jagung\n",
      "Flanel\n",
      "HVS\n"
     ]
    }
   ],
   "source": [
    "kertas = ['Buffalo', 'Manila', 'Jagung', 'Flanel', 'HVS']\n",
    "for jenis in kertas :\n",
    "    print(jenis)"
   ]
  },
  {
   "cell_type": "code",
   "execution_count": 67,
   "id": "b0180d4a",
   "metadata": {},
   "outputs": [
    {
     "name": "stdout",
     "output_type": "stream",
     "text": [
      "Buffalo\n",
      "Manila\n",
      "Jagung\n",
      "Flanel\n",
      "HVS\n"
     ]
    }
   ],
   "source": [
    "i = 0\n",
    "while i < len(kertas):\n",
    "    print(kertas[i])\n",
    "    i += 1"
   ]
  },
  {
   "cell_type": "markdown",
   "id": "ed124233",
   "metadata": {},
   "source": [
    "# 5.15 Fungsi Range"
   ]
  },
  {
   "cell_type": "code",
   "execution_count": 68,
   "id": "58ac53dc",
   "metadata": {},
   "outputs": [
    {
     "name": "stdout",
     "output_type": "stream",
     "text": [
      "range(0, 5)\n"
     ]
    }
   ],
   "source": [
    "angka = range(5)\n",
    "print(angka)"
   ]
  },
  {
   "cell_type": "code",
   "execution_count": 69,
   "id": "074b8aa8",
   "metadata": {},
   "outputs": [
    {
     "name": "stdout",
     "output_type": "stream",
     "text": [
      "0\n",
      "1\n",
      "2\n",
      "3\n",
      "4\n"
     ]
    }
   ],
   "source": [
    "for isi in angka :\n",
    "    print(isi)"
   ]
  },
  {
   "cell_type": "code",
   "execution_count": 70,
   "id": "2ec546ff",
   "metadata": {},
   "outputs": [
    {
     "name": "stdout",
     "output_type": "stream",
     "text": [
      "5\n",
      "6\n",
      "7\n",
      "8\n",
      "9\n",
      "10\n",
      "11\n",
      "12\n",
      "13\n",
      "14\n"
     ]
    }
   ],
   "source": [
    "for isi in range(5,15) :\n",
    "    print(isi)"
   ]
  },
  {
   "cell_type": "code",
   "execution_count": 71,
   "id": "c2d2af31",
   "metadata": {},
   "outputs": [
    {
     "name": "stdout",
     "output_type": "stream",
     "text": [
      "0\n",
      "3\n",
      "6\n",
      "9\n",
      "12\n"
     ]
    }
   ],
   "source": [
    "for isi in range(0,15,3) :\n",
    "    print(isi)"
   ]
  },
  {
   "cell_type": "markdown",
   "id": "3cfc061a",
   "metadata": {},
   "source": [
    "# LATIHAN"
   ]
  },
  {
   "cell_type": "markdown",
   "id": "a5d31902",
   "metadata": {},
   "source": [
    "1. Buatlah program untuk mencari nilai terbesar di dalam suatu list.\n",
    "   \n",
    "   jawaban :"
   ]
  },
  {
   "cell_type": "code",
   "execution_count": 73,
   "id": "97f262d6",
   "metadata": {},
   "outputs": [
    {
     "name": "stdout",
     "output_type": "stream",
     "text": [
      "10\n"
     ]
    }
   ],
   "source": [
    "data = [1,3,5,6,3,4,2,8,5,6,10,2,3,1]\n",
    "terbesar = data[0]\n",
    "for i in range(len(data)) :\n",
    "    if data[i] > terbesar :\n",
    "        terbesar = data[i]\n",
    "print(terbesar)"
   ]
  },
  {
   "cell_type": "code",
   "execution_count": 74,
   "id": "b0edf549",
   "metadata": {},
   "outputs": [
    {
     "name": "stdout",
     "output_type": "stream",
     "text": [
      "10\n"
     ]
    }
   ],
   "source": [
    "data = [1,3,5,6,3,4,2,8,5,6,10,2,3,1]\n",
    "terbesar = data[0]\n",
    "for angka in data :\n",
    "    if angka > terbesar :\n",
    "        terbesar = angka\n",
    "print(terbesar)"
   ]
  },
  {
   "cell_type": "markdown",
   "id": "3d8a6e9a",
   "metadata": {},
   "source": [
    "2. Buatlah program untuk membuat anggota list menjadi unik dengan kata lain tidak ada anggota list yang kembar.\n",
    "   \n",
    "   Jawaban :"
   ]
  },
  {
   "cell_type": "code",
   "execution_count": 76,
   "id": "9d658beb",
   "metadata": {},
   "outputs": [
    {
     "name": "stdout",
     "output_type": "stream",
     "text": [
      "[1, 2, 3, 4, 5, 6, 7, 8, 9, 10]\n"
     ]
    }
   ],
   "source": [
    "angka = [1,2,3,4,4,5,6,5,6,7,8,9,7,8,7,10]\n",
    "angka_unik = []\n",
    "for anggota in angka :\n",
    "    if anggota not in angka_unik :\n",
    "        angka_unik.append(anggota)\n",
    "print(angka_unik)"
   ]
  },
  {
   "cell_type": "markdown",
   "id": "d25ea504",
   "metadata": {},
   "source": [
    "# 5.16 List 2 Dimensi"
   ]
  },
  {
   "cell_type": "code",
   "execution_count": 78,
   "id": "d90cd1bc",
   "metadata": {},
   "outputs": [
    {
     "name": "stdout",
     "output_type": "stream",
     "text": [
      "[[1, 2, 3, 4], [5, 6, 7, 8], [9, 10, 11, 12], [13, 14, 15, 16]]\n"
     ]
    }
   ],
   "source": [
    "matrik = [\n",
    "    [1,2,3,4],\n",
    "    [5,6,7,8],\n",
    "    [9,10,11,12],\n",
    "    [13,14,15,16]\n",
    "]\n",
    "print(matrik)"
   ]
  },
  {
   "cell_type": "code",
   "execution_count": 79,
   "id": "5e58649b",
   "metadata": {},
   "outputs": [
    {
     "data": {
      "text/plain": [
       "[5, 6, 7, 8]"
      ]
     },
     "execution_count": 79,
     "metadata": {},
     "output_type": "execute_result"
    }
   ],
   "source": [
    "matrik[1]"
   ]
  },
  {
   "cell_type": "code",
   "execution_count": 80,
   "id": "4473991c",
   "metadata": {},
   "outputs": [
    {
     "data": {
      "text/plain": [
       "[1, 2, 3, 4]"
      ]
     },
     "execution_count": 80,
     "metadata": {},
     "output_type": "execute_result"
    }
   ],
   "source": [
    "matrik[0]"
   ]
  },
  {
   "cell_type": "code",
   "execution_count": 82,
   "id": "a312c927",
   "metadata": {},
   "outputs": [
    {
     "data": {
      "text/plain": [
       "[13, 14, 15, 16]"
      ]
     },
     "execution_count": 82,
     "metadata": {},
     "output_type": "execute_result"
    }
   ],
   "source": [
    "matrik[3]"
   ]
  },
  {
   "cell_type": "code",
   "execution_count": 83,
   "id": "1f732e7e",
   "metadata": {},
   "outputs": [
    {
     "data": {
      "text/plain": [
       "[13, 14, 15, 16]"
      ]
     },
     "execution_count": 83,
     "metadata": {},
     "output_type": "execute_result"
    }
   ],
   "source": [
    "matrik[-1]"
   ]
  },
  {
   "cell_type": "code",
   "execution_count": 84,
   "id": "fe13e992",
   "metadata": {},
   "outputs": [
    {
     "data": {
      "text/plain": [
       "2"
      ]
     },
     "execution_count": 84,
     "metadata": {},
     "output_type": "execute_result"
    }
   ],
   "source": [
    "matrik[0][1]"
   ]
  },
  {
   "cell_type": "code",
   "execution_count": 85,
   "id": "f781ed41",
   "metadata": {},
   "outputs": [
    {
     "data": {
      "text/plain": [
       "4"
      ]
     },
     "execution_count": 85,
     "metadata": {},
     "output_type": "execute_result"
    }
   ],
   "source": [
    "matrik[0][3]"
   ]
  },
  {
   "cell_type": "code",
   "execution_count": 86,
   "id": "9562b120",
   "metadata": {},
   "outputs": [
    {
     "data": {
      "text/plain": [
       "16"
      ]
     },
     "execution_count": 86,
     "metadata": {},
     "output_type": "execute_result"
    }
   ],
   "source": [
    "matrik[3][3]"
   ]
  },
  {
   "cell_type": "code",
   "execution_count": 88,
   "id": "3bd865d6",
   "metadata": {},
   "outputs": [
    {
     "name": "stdout",
     "output_type": "stream",
     "text": [
      "500\n"
     ]
    }
   ],
   "source": [
    "matrik[3][3]=500\n",
    "print(matrik[3][3])"
   ]
  },
  {
   "cell_type": "code",
   "execution_count": 89,
   "id": "5bbd7989",
   "metadata": {},
   "outputs": [
    {
     "data": {
      "text/plain": [
       "[[1, 2, 3, 4], [5, 6, 7, 8], [9, 10, 11, 12], [13, 14, 15, 500]]"
      ]
     },
     "execution_count": 89,
     "metadata": {},
     "output_type": "execute_result"
    }
   ],
   "source": [
    "matrik"
   ]
  },
  {
   "cell_type": "code",
   "execution_count": 90,
   "id": "a89e0680",
   "metadata": {},
   "outputs": [
    {
     "name": "stdout",
     "output_type": "stream",
     "text": [
      "[1, 2, 3, 4]\n",
      "1\n",
      "2\n",
      "3\n",
      "4\n",
      "[5, 6, 7, 8]\n",
      "5\n",
      "6\n",
      "7\n",
      "8\n",
      "[9, 10, 11, 12]\n",
      "9\n",
      "10\n",
      "11\n",
      "12\n",
      "[13, 14, 15, 500]\n",
      "13\n",
      "14\n",
      "15\n",
      "500\n"
     ]
    }
   ],
   "source": [
    "for baris in matrik :\n",
    "    print(baris)\n",
    "    for kolom in baris :\n",
    "        print(kolom)"
   ]
  },
  {
   "cell_type": "markdown",
   "id": "3232609e",
   "metadata": {},
   "source": [
    "# 5.17 Tuples"
   ]
  },
  {
   "cell_type": "code",
   "execution_count": 91,
   "id": "f4d35a8b",
   "metadata": {},
   "outputs": [],
   "source": [
    "angka = 0,1,1,2,3,3,4,5"
   ]
  },
  {
   "cell_type": "code",
   "execution_count": 92,
   "id": "a0d3abd2",
   "metadata": {},
   "outputs": [
    {
     "name": "stdout",
     "output_type": "stream",
     "text": [
      "0\n"
     ]
    }
   ],
   "source": [
    "print(angka[0])"
   ]
  },
  {
   "cell_type": "code",
   "execution_count": 93,
   "id": "b9372f9d",
   "metadata": {},
   "outputs": [
    {
     "name": "stdout",
     "output_type": "stream",
     "text": [
      "(0, 1, 1, 2)\n"
     ]
    }
   ],
   "source": [
    "print(angka[0:4])"
   ]
  },
  {
   "cell_type": "code",
   "execution_count": 94,
   "id": "cbaf6f0b",
   "metadata": {},
   "outputs": [
    {
     "name": "stdout",
     "output_type": "stream",
     "text": [
      "0\n",
      "1\n",
      "1\n",
      "2\n"
     ]
    }
   ],
   "source": [
    "for isi in angka[0:4]:\n",
    "    print(isi)"
   ]
  },
  {
   "cell_type": "code",
   "execution_count": 95,
   "id": "81ccfef5",
   "metadata": {},
   "outputs": [
    {
     "ename": "TypeError",
     "evalue": "'tuple' object does not support item assignment",
     "output_type": "error",
     "traceback": [
      "\u001b[1;31m---------------------------------------------------------------------------\u001b[0m",
      "\u001b[1;31mTypeError\u001b[0m                                 Traceback (most recent call last)",
      "\u001b[1;32m~\\AppData\\Local\\Temp/ipykernel_19252/2730028893.py\u001b[0m in \u001b[0;36m<module>\u001b[1;34m\u001b[0m\n\u001b[1;32m----> 1\u001b[1;33m \u001b[0mangka\u001b[0m\u001b[1;33m[\u001b[0m\u001b[1;36m0\u001b[0m\u001b[1;33m]\u001b[0m\u001b[1;33m=\u001b[0m\u001b[1;36m10\u001b[0m\u001b[1;33m\u001b[0m\u001b[1;33m\u001b[0m\u001b[0m\n\u001b[0m",
      "\u001b[1;31mTypeError\u001b[0m: 'tuple' object does not support item assignment"
     ]
    }
   ],
   "source": [
    "angka[0]=10"
   ]
  },
  {
   "cell_type": "code",
   "execution_count": 96,
   "id": "0decc713",
   "metadata": {},
   "outputs": [
    {
     "ename": "AttributeError",
     "evalue": "'tuple' object has no attribute 'append'",
     "output_type": "error",
     "traceback": [
      "\u001b[1;31m---------------------------------------------------------------------------\u001b[0m",
      "\u001b[1;31mAttributeError\u001b[0m                            Traceback (most recent call last)",
      "\u001b[1;32m~\\AppData\\Local\\Temp/ipykernel_19252/1086000304.py\u001b[0m in \u001b[0;36m<module>\u001b[1;34m\u001b[0m\n\u001b[1;32m----> 1\u001b[1;33m \u001b[0mangka\u001b[0m\u001b[1;33m.\u001b[0m\u001b[0mappend\u001b[0m\u001b[1;33m(\u001b[0m\u001b[1;36m10\u001b[0m\u001b[1;33m)\u001b[0m\u001b[1;33m\u001b[0m\u001b[1;33m\u001b[0m\u001b[0m\n\u001b[0m",
      "\u001b[1;31mAttributeError\u001b[0m: 'tuple' object has no attribute 'append'"
     ]
    }
   ],
   "source": [
    "angka.append(10)"
   ]
  },
  {
   "cell_type": "code",
   "execution_count": 102,
   "id": "9bce3ec5",
   "metadata": {},
   "outputs": [
    {
     "ename": "AttributeError",
     "evalue": "'tuple' object has no attribute 'remove'",
     "output_type": "error",
     "traceback": [
      "\u001b[1;31m---------------------------------------------------------------------------\u001b[0m",
      "\u001b[1;31mAttributeError\u001b[0m                            Traceback (most recent call last)",
      "\u001b[1;32m~\\AppData\\Local\\Temp/ipykernel_19252/2892091948.py\u001b[0m in \u001b[0;36m<module>\u001b[1;34m\u001b[0m\n\u001b[1;32m----> 1\u001b[1;33m \u001b[0mangka\u001b[0m\u001b[1;33m.\u001b[0m\u001b[0mremove\u001b[0m\u001b[1;33m[\u001b[0m\u001b[1;36m5\u001b[0m\u001b[1;33m]\u001b[0m\u001b[1;33m\u001b[0m\u001b[1;33m\u001b[0m\u001b[0m\n\u001b[0m",
      "\u001b[1;31mAttributeError\u001b[0m: 'tuple' object has no attribute 'remove'"
     ]
    }
   ],
   "source": [
    "angka.remove[5]"
   ]
  },
  {
   "cell_type": "code",
   "execution_count": 104,
   "id": "8c3d4a55",
   "metadata": {},
   "outputs": [
    {
     "ename": "TypeError",
     "evalue": "'tuple' object does not support item assignment",
     "output_type": "error",
     "traceback": [
      "\u001b[1;31m---------------------------------------------------------------------------\u001b[0m",
      "\u001b[1;31mTypeError\u001b[0m                                 Traceback (most recent call last)",
      "\u001b[1;32m~\\AppData\\Local\\Temp/ipykernel_19252/3383697927.py\u001b[0m in \u001b[0;36m<module>\u001b[1;34m\u001b[0m\n\u001b[1;32m----> 1\u001b[1;33m \u001b[0mangka\u001b[0m\u001b[1;33m[\u001b[0m\u001b[1;36m0\u001b[0m\u001b[1;33m]\u001b[0m\u001b[1;33m=\u001b[0m\u001b[1;36m10\u001b[0m\u001b[1;33m\u001b[0m\u001b[1;33m\u001b[0m\u001b[0m\n\u001b[0m\u001b[0;32m      2\u001b[0m \u001b[0mprint\u001b[0m\u001b[1;33m(\u001b[0m\u001b[0mangka\u001b[0m\u001b[1;33m[\u001b[0m\u001b[1;36m0\u001b[0m\u001b[1;33m]\u001b[0m\u001b[1;33m)\u001b[0m\u001b[1;33m\u001b[0m\u001b[1;33m\u001b[0m\u001b[0m\n",
      "\u001b[1;31mTypeError\u001b[0m: 'tuple' object does not support item assignment"
     ]
    }
   ],
   "source": [
    "angka[0]=10\n",
    "print(angka[0])"
   ]
  },
  {
   "cell_type": "code",
   "execution_count": 107,
   "id": "0b47ef09",
   "metadata": {},
   "outputs": [
    {
     "data": {
      "text/plain": [
       "2"
      ]
     },
     "execution_count": 107,
     "metadata": {},
     "output_type": "execute_result"
    }
   ],
   "source": [
    "angka.count(3)"
   ]
  },
  {
   "cell_type": "code",
   "execution_count": 108,
   "id": "4db551b2",
   "metadata": {},
   "outputs": [
    {
     "data": {
      "text/plain": [
       "4"
      ]
     },
     "execution_count": 108,
     "metadata": {},
     "output_type": "execute_result"
    }
   ],
   "source": [
    "angka.index(3)"
   ]
  },
  {
   "cell_type": "code",
   "execution_count": 109,
   "id": "4fd7de23",
   "metadata": {},
   "outputs": [
    {
     "data": {
      "text/plain": [
       "7"
      ]
     },
     "execution_count": 109,
     "metadata": {},
     "output_type": "execute_result"
    }
   ],
   "source": [
    "angka.index(5)"
   ]
  },
  {
   "cell_type": "markdown",
   "id": "192dcea7",
   "metadata": {},
   "source": [
    "# 5.18 Dictionaries"
   ]
  },
  {
   "cell_type": "code",
   "execution_count": 110,
   "id": "3d6c5d98",
   "metadata": {},
   "outputs": [],
   "source": [
    "data_orang = {\n",
    "    \"nama\" : \"Viona Amelia\",\n",
    "    \"umur\" : 18,\n",
    "    \"apakah_singel\" : False\n",
    "}"
   ]
  },
  {
   "cell_type": "code",
   "execution_count": 111,
   "id": "89706da0",
   "metadata": {},
   "outputs": [
    {
     "name": "stdout",
     "output_type": "stream",
     "text": [
      "Viona Amelia\n"
     ]
    }
   ],
   "source": [
    "print(data_orang['nama'])"
   ]
  },
  {
   "cell_type": "code",
   "execution_count": 112,
   "id": "46a9e61f",
   "metadata": {},
   "outputs": [
    {
     "ename": "KeyError",
     "evalue": "'Nama'",
     "output_type": "error",
     "traceback": [
      "\u001b[1;31m---------------------------------------------------------------------------\u001b[0m",
      "\u001b[1;31mKeyError\u001b[0m                                  Traceback (most recent call last)",
      "\u001b[1;32m~\\AppData\\Local\\Temp/ipykernel_19252/1883148979.py\u001b[0m in \u001b[0;36m<module>\u001b[1;34m\u001b[0m\n\u001b[1;32m----> 1\u001b[1;33m \u001b[0mprint\u001b[0m\u001b[1;33m(\u001b[0m\u001b[0mdata_orang\u001b[0m\u001b[1;33m[\u001b[0m\u001b[1;34m'Nama'\u001b[0m\u001b[1;33m]\u001b[0m\u001b[1;33m)\u001b[0m\u001b[1;33m\u001b[0m\u001b[1;33m\u001b[0m\u001b[0m\n\u001b[0m",
      "\u001b[1;31mKeyError\u001b[0m: 'Nama'"
     ]
    }
   ],
   "source": [
    "print(data_orang['Nama'])"
   ]
  },
  {
   "cell_type": "code",
   "execution_count": 113,
   "id": "9f95dc51",
   "metadata": {},
   "outputs": [
    {
     "name": "stdout",
     "output_type": "stream",
     "text": [
      "Viona Amelia\n"
     ]
    }
   ],
   "source": [
    "print(data_orang.get('nama'))"
   ]
  },
  {
   "cell_type": "code",
   "execution_count": 114,
   "id": "2af14cfd",
   "metadata": {},
   "outputs": [
    {
     "name": "stdout",
     "output_type": "stream",
     "text": [
      "None\n"
     ]
    }
   ],
   "source": [
    "print(data_orang.get('Nama'))"
   ]
  },
  {
   "cell_type": "code",
   "execution_count": 115,
   "id": "c4324cbc",
   "metadata": {},
   "outputs": [
    {
     "name": "stdout",
     "output_type": "stream",
     "text": [
      "None\n"
     ]
    }
   ],
   "source": [
    "print(data_orang.get('tangga_lahir'))"
   ]
  },
  {
   "cell_type": "code",
   "execution_count": 116,
   "id": "9b25526a",
   "metadata": {},
   "outputs": [
    {
     "name": "stdout",
     "output_type": "stream",
     "text": [
      "2-2-2022\n"
     ]
    }
   ],
   "source": [
    "print(data_orang.get('tanggal_lahir', '2-2-2022'))"
   ]
  },
  {
   "cell_type": "code",
   "execution_count": 117,
   "id": "50af0609",
   "metadata": {},
   "outputs": [
    {
     "name": "stdout",
     "output_type": "stream",
     "text": [
      "{'nama': 'Viona Amelia', 'umur': 18, 'apakah_singel': False}\n"
     ]
    }
   ],
   "source": [
    "print(data_orang)"
   ]
  },
  {
   "cell_type": "code",
   "execution_count": 118,
   "id": "fde91247",
   "metadata": {},
   "outputs": [
    {
     "ename": "KeyError",
     "evalue": "'tanggal_lahir'",
     "output_type": "error",
     "traceback": [
      "\u001b[1;31m---------------------------------------------------------------------------\u001b[0m",
      "\u001b[1;31mKeyError\u001b[0m                                  Traceback (most recent call last)",
      "\u001b[1;32m~\\AppData\\Local\\Temp/ipykernel_19252/3463751171.py\u001b[0m in \u001b[0;36m<module>\u001b[1;34m\u001b[0m\n\u001b[1;32m----> 1\u001b[1;33m \u001b[0mprint\u001b[0m\u001b[1;33m(\u001b[0m\u001b[0mdata_orang\u001b[0m\u001b[1;33m[\u001b[0m\u001b[1;34m\"tanggal_lahir\"\u001b[0m\u001b[1;33m]\u001b[0m\u001b[1;33m)\u001b[0m\u001b[1;33m\u001b[0m\u001b[1;33m\u001b[0m\u001b[0m\n\u001b[0m",
      "\u001b[1;31mKeyError\u001b[0m: 'tanggal_lahir'"
     ]
    }
   ],
   "source": [
    "print(data_orang[\"tanggal_lahir\"])"
   ]
  },
  {
   "cell_type": "code",
   "execution_count": 119,
   "id": "a76a9896",
   "metadata": {},
   "outputs": [
    {
     "ename": "KeyError",
     "evalue": "'tanggal_lahir'",
     "output_type": "error",
     "traceback": [
      "\u001b[1;31m---------------------------------------------------------------------------\u001b[0m",
      "\u001b[1;31mKeyError\u001b[0m                                  Traceback (most recent call last)",
      "\u001b[1;32m~\\AppData\\Local\\Temp/ipykernel_19252/2691617453.py\u001b[0m in \u001b[0;36m<module>\u001b[1;34m\u001b[0m\n\u001b[1;32m----> 1\u001b[1;33m \u001b[0mprint\u001b[0m\u001b[1;33m(\u001b[0m\u001b[0mdata_orang\u001b[0m\u001b[1;33m[\u001b[0m\u001b[1;34m'tanggal_lahir'\u001b[0m\u001b[1;33m]\u001b[0m\u001b[1;33m)\u001b[0m\u001b[1;33m\u001b[0m\u001b[1;33m\u001b[0m\u001b[0m\n\u001b[0m",
      "\u001b[1;31mKeyError\u001b[0m: 'tanggal_lahir'"
     ]
    }
   ],
   "source": [
    "print(data_orang['tanggal_lahir'])"
   ]
  },
  {
   "cell_type": "code",
   "execution_count": 120,
   "id": "e9973f8e",
   "metadata": {},
   "outputs": [],
   "source": [
    "data_orang['HP'] = '089876543210'"
   ]
  },
  {
   "cell_type": "code",
   "execution_count": 121,
   "id": "f249cf90",
   "metadata": {},
   "outputs": [
    {
     "name": "stdout",
     "output_type": "stream",
     "text": [
      "089876543210\n"
     ]
    }
   ],
   "source": [
    "print(data_orang[\"HP\"])"
   ]
  },
  {
   "cell_type": "code",
   "execution_count": 122,
   "id": "8a08736a",
   "metadata": {},
   "outputs": [
    {
     "name": "stdout",
     "output_type": "stream",
     "text": [
      "{'nama': 'Viona Amelia', 'umur': 18, 'apakah_singel': False, 'HP': '089876543210'}\n"
     ]
    }
   ],
   "source": [
    "print(data_orang)"
   ]
  },
  {
   "cell_type": "markdown",
   "id": "4ae7980a",
   "metadata": {},
   "source": [
    "# LATIHAN"
   ]
  },
  {
   "cell_type": "markdown",
   "id": "59afabe9",
   "metadata": {},
   "source": [
    "Buatlah program untuk merubah nomor HP yang tadinya berupa angka menjadi sebutan bilangan tersebut. Misalnya angka 0812 akan menjadi nol delapan satu dua."
   ]
  },
  {
   "cell_type": "code",
   "execution_count": 124,
   "id": "df85a7cc",
   "metadata": {},
   "outputs": [],
   "source": [
    "angka = {\n",
    "    \"0\" : \"nol\",\n",
    "    \"1\" : \"satu\",\n",
    "    \"2\" : \"dua\",\n",
    "    \"3\" : \"tiga\",\n",
    "    \"4\" : \"empat\",\n",
    "    \"5\" : \"lima\",\n",
    "    \"6\" : \"enam\",\n",
    "    \"7\" : \"tujuh\",\n",
    "    \"8\" : \"delapan\",\n",
    "    \"9\" : \"sembilan\"\n",
    "}"
   ]
  },
  {
   "cell_type": "code",
   "execution_count": 125,
   "id": "0ddee37d",
   "metadata": {},
   "outputs": [
    {
     "name": "stdout",
     "output_type": "stream",
     "text": [
      "Masukkan nomor HP anda 08987654320\n",
      "nol delapan sembilan delapan tujuh enam lima empat tiga dua nol \n"
     ]
    }
   ],
   "source": [
    "nomor_HP = input(\"Masukkan nomor HP anda \")\n",
    "nomor_angka = \"\"\n",
    "for isi in nomor_HP:\n",
    "    nomor_angka += angka.get(isi) + \" \"\n",
    "print(nomor_angka)"
   ]
  },
  {
   "cell_type": "code",
   "execution_count": 136,
   "id": "f1e6660b",
   "metadata": {},
   "outputs": [],
   "source": [
    "def full_name(first_name,last_name):\n",
    "    print(f\"Nama lengkapnya adalah {first_name} {last_name}\")"
   ]
  },
  {
   "cell_type": "code",
   "execution_count": 137,
   "id": "acf1968d",
   "metadata": {},
   "outputs": [
    {
     "name": "stdout",
     "output_type": "stream",
     "text": [
      "Nama depan anda adalah Viona\n",
      "Nama belakang anda adalah Amelia\n",
      "Nama lengkapnya adalah Viona Amelia\n"
     ]
    }
   ],
   "source": [
    "first_name = input(\"Nama depan anda adalah \")\n",
    "last_name = input(\"Nama belakang anda adalah \")\n",
    "full_name(first_name,last_name)"
   ]
  },
  {
   "cell_type": "markdown",
   "id": "6a8e8701",
   "metadata": {},
   "source": [
    "# 5.19.1 Tugas dan Fungsi pada Python"
   ]
  },
  {
   "cell_type": "code",
   "execution_count": 138,
   "id": "9bf429a0",
   "metadata": {},
   "outputs": [],
   "source": [
    "def waktu_sampai(jarak,kecepatan) :\n",
    "    waktu = jarak/kecepatan\n",
    "    print(waktu)"
   ]
  },
  {
   "cell_type": "code",
   "execution_count": 139,
   "id": "992e4869",
   "metadata": {},
   "outputs": [],
   "source": [
    "def waktu_tempuh(jarak,kecepatan) :\n",
    "    waktu = jarak/kecepatan\n",
    "    return waktu"
   ]
  },
  {
   "cell_type": "code",
   "execution_count": 140,
   "id": "76f770ee",
   "metadata": {},
   "outputs": [
    {
     "name": "stdout",
     "output_type": "stream",
     "text": [
      "1.25\n"
     ]
    }
   ],
   "source": [
    "waktu_sampai(100,80)"
   ]
  },
  {
   "cell_type": "code",
   "execution_count": 141,
   "id": "3d41c66b",
   "metadata": {},
   "outputs": [
    {
     "data": {
      "text/plain": [
       "1.25"
      ]
     },
     "execution_count": 141,
     "metadata": {},
     "output_type": "execute_result"
    }
   ],
   "source": [
    "waktu_tempuh(100,80)"
   ]
  },
  {
   "cell_type": "code",
   "execution_count": 142,
   "id": "5b2a7980",
   "metadata": {},
   "outputs": [
    {
     "name": "stdout",
     "output_type": "stream",
     "text": [
      "1.25\n",
      "None\n"
     ]
    }
   ],
   "source": [
    "a = waktu_sampai(100,80)\n",
    "print(a)"
   ]
  },
  {
   "cell_type": "code",
   "execution_count": 143,
   "id": "e781a7db",
   "metadata": {},
   "outputs": [
    {
     "name": "stdout",
     "output_type": "stream",
     "text": [
      "1.25\n"
     ]
    }
   ],
   "source": [
    "b = waktu_tempuh(100,80)\n",
    "print(b)"
   ]
  },
  {
   "cell_type": "markdown",
   "id": "ff38835e",
   "metadata": {},
   "source": [
    "# LATIHAN"
   ]
  },
  {
   "cell_type": "markdown",
   "id": "9a15a55a",
   "metadata": {},
   "source": [
    "Buatlah program yang menggunakan fungsi Python untuk menghitung luas segitiga, lingkaran, persegi dan persegi panjang. Selain itu berikan peringatan bagi bidang lain yang tidak termasuk perhitungan."
   ]
  },
  {
   "cell_type": "code",
   "execution_count": 144,
   "id": "cd8734f1",
   "metadata": {},
   "outputs": [],
   "source": [
    "import numpy as np"
   ]
  },
  {
   "cell_type": "code",
   "execution_count": 145,
   "id": "f4815f09",
   "metadata": {},
   "outputs": [],
   "source": [
    "def luas_segitiga(alas,tinggi) :\n",
    "    luas = (1/2)*alas*tinggi\n",
    "    return luas\n",
    "def luas_lingkaran(jari_jari) :\n",
    "    luas = np.pi*(jari_jari**2)\n",
    "    return luas\n",
    "def luas_persegi(sisi) : \n",
    "    luas = sisi**2\n",
    "    return luas\n",
    "def luas_persegi_panjang(panjang,lebar) :\n",
    "    luas = panjang*lebar\n",
    "    return luas"
   ]
  },
  {
   "cell_type": "code",
   "execution_count": 1,
   "id": "81def97f",
   "metadata": {},
   "outputs": [
    {
     "name": "stdout",
     "output_type": "stream",
     "text": [
      "Tulis jenis bidangnya Jajar Genjang\n",
      "Oops! Maaf bidang Jajar Genjang yang anda masukkan tidak ada.\n",
      "Pilihan yang tertera hanya ada SEGITIGA, LINGKARAN, PERSEGI dan PERSEGI PANJANG.\n",
      "Terimakasih\n"
     ]
    }
   ],
   "source": [
    "jenis_bidang = input(\"Tulis jenis bidangnya \")\n",
    "if jenis_bidang.upper() == 'SEGITIGA' :\n",
    "    alas = float(input('Berapakah panjang alasnya? '))\n",
    "    tinggi = float(input('Berapakah tingginya? '))\n",
    "    luas = luas_segitiga(alas,tinggi)\n",
    "    print(f\"Luas (jenis_bidang) adalah {luas}\")\n",
    "elif jenis_bidang.upper() == 'LINGKARAN':\n",
    "    jari_jari = float(input('Berapakah panjang jari-jarinya? '))\n",
    "    luas = luas_lingkaran(jari_jari)\n",
    "    print(f\"Luas (jenis_bidang) adalah {luas}\")\n",
    "elif jenis_bidang.upper() == 'PERSEGI' or (jenis_bidang.upper() == 'BUJUR SANGKAR'): \n",
    "    sisi = float(input('Berapakah panjang sisinya? '))\n",
    "    luas = luas_persegi(sisi)\n",
    "    print(f\"Luas (jenis_bidang) adalah {luas}\")\n",
    "elif jenis_bidang.upper() == 'PERSEGI PANJANG':\n",
    "    panjang = float(input('Berapakah panjangnya? '))\n",
    "    lebar = float(input('Berapakah 1ebarnya? '))\n",
    "    luas = luas_persegi_panjang(panjang,lebar)\n",
    "    print(f\"Luas {jenis_bidang} adalah {luas}\")\n",
    "else:\n",
    "    print(f\"Oops! Maaf bidang {jenis_bidang} yang anda masukkan tidak ada.\")\n",
    "    print(\"Pilihan yang tertera hanya ada SEGITIGA, LINGKARAN, PERSEGI dan PERSEGI PANJANG.\")\n",
    "    print('Terimakasih')"
   ]
  },
  {
   "cell_type": "markdown",
   "id": "318df0be",
   "metadata": {},
   "source": [
    "# 5.20 Numpy"
   ]
  },
  {
   "cell_type": "markdown",
   "id": "bacad82f",
   "metadata": {},
   "source": [
    "# 5.20.1 Perintah Dasar pada Numpy"
   ]
  },
  {
   "cell_type": "code",
   "execution_count": 3,
   "id": "b1223f5b",
   "metadata": {},
   "outputs": [],
   "source": [
    "import numpy as np"
   ]
  },
  {
   "cell_type": "code",
   "execution_count": 4,
   "id": "f67207f8",
   "metadata": {},
   "outputs": [
    {
     "name": "stdout",
     "output_type": "stream",
     "text": [
      "[0 1 2 3 4]\n"
     ]
    }
   ],
   "source": [
    "a = np.array([0,1,2,3,4])\n",
    "print(a)"
   ]
  },
  {
   "cell_type": "code",
   "execution_count": 5,
   "id": "5a8c9a40",
   "metadata": {},
   "outputs": [
    {
     "name": "stdout",
     "output_type": "stream",
     "text": [
      "[[5 6 7 8]\n",
      " [9 8 7 6]]\n"
     ]
    }
   ],
   "source": [
    "b = np.array([[5,6,7,8],[9,8,7,6]])\n",
    "print(b)"
   ]
  },
  {
   "cell_type": "code",
   "execution_count": 6,
   "id": "a1357819",
   "metadata": {},
   "outputs": [
    {
     "name": "stdout",
     "output_type": "stream",
     "text": [
      "[[[0 1 2 3]\n",
      "  [4 5 6 7]\n",
      "  [8 9 8 7]\n",
      "  [6 5 4 3]\n",
      "  [1 2 3 4]\n",
      "  [5 6 7 8]]]\n"
     ]
    }
   ],
   "source": [
    "c = np.array([[[0,1,2,3],[4,5,6,7],[8,9,8,7],[6,5,4,3],[1,2,3,4],[5,6,7,8]]])\n",
    "print(c)"
   ]
  },
  {
   "cell_type": "code",
   "execution_count": 7,
   "id": "300ba1f2",
   "metadata": {},
   "outputs": [
    {
     "data": {
      "text/plain": [
       "1"
      ]
     },
     "execution_count": 7,
     "metadata": {},
     "output_type": "execute_result"
    }
   ],
   "source": [
    "a.ndim"
   ]
  },
  {
   "cell_type": "code",
   "execution_count": 8,
   "id": "de20f233",
   "metadata": {},
   "outputs": [
    {
     "data": {
      "text/plain": [
       "2"
      ]
     },
     "execution_count": 8,
     "metadata": {},
     "output_type": "execute_result"
    }
   ],
   "source": [
    "b.ndim"
   ]
  },
  {
   "cell_type": "code",
   "execution_count": 9,
   "id": "36c2e73c",
   "metadata": {},
   "outputs": [
    {
     "data": {
      "text/plain": [
       "3"
      ]
     },
     "execution_count": 9,
     "metadata": {},
     "output_type": "execute_result"
    }
   ],
   "source": [
    "c.ndim"
   ]
  },
  {
   "cell_type": "code",
   "execution_count": 10,
   "id": "df892826",
   "metadata": {},
   "outputs": [
    {
     "data": {
      "text/plain": [
       "(5,)"
      ]
     },
     "execution_count": 10,
     "metadata": {},
     "output_type": "execute_result"
    }
   ],
   "source": [
    "a.shape"
   ]
  },
  {
   "cell_type": "code",
   "execution_count": 11,
   "id": "2ed94470",
   "metadata": {},
   "outputs": [
    {
     "data": {
      "text/plain": [
       "(2, 4)"
      ]
     },
     "execution_count": 11,
     "metadata": {},
     "output_type": "execute_result"
    }
   ],
   "source": [
    "b.shape"
   ]
  },
  {
   "cell_type": "code",
   "execution_count": 13,
   "id": "20454150",
   "metadata": {},
   "outputs": [
    {
     "data": {
      "text/plain": [
       "(1, 6, 4)"
      ]
     },
     "execution_count": 13,
     "metadata": {},
     "output_type": "execute_result"
    }
   ],
   "source": [
    "c.shape"
   ]
  },
  {
   "cell_type": "markdown",
   "id": "eaede107",
   "metadata": {},
   "source": [
    "# 5.20.2 Memanggil Anggota, Kolom dan Baris dengan Numpy"
   ]
  },
  {
   "cell_type": "code",
   "execution_count": 14,
   "id": "1d8b4ae1",
   "metadata": {},
   "outputs": [],
   "source": [
    "import numpy as np"
   ]
  },
  {
   "cell_type": "code",
   "execution_count": 15,
   "id": "bc6d75f8",
   "metadata": {},
   "outputs": [
    {
     "name": "stdout",
     "output_type": "stream",
     "text": [
      "[[ 1  2  3  4]\n",
      " [ 5  6  7  8]\n",
      " [ 9 10 11 12]]\n"
     ]
    }
   ],
   "source": [
    "d = np.array([[1,2,3,4],[5,6,7,8],[9,10,11,12]])\n",
    "print(d)"
   ]
  },
  {
   "cell_type": "code",
   "execution_count": 16,
   "id": "618eab48",
   "metadata": {},
   "outputs": [
    {
     "data": {
      "text/plain": [
       "4"
      ]
     },
     "execution_count": 16,
     "metadata": {},
     "output_type": "execute_result"
    }
   ],
   "source": [
    "d[0,3]"
   ]
  },
  {
   "cell_type": "code",
   "execution_count": 17,
   "id": "0fcb27b3",
   "metadata": {},
   "outputs": [
    {
     "data": {
      "text/plain": [
       "7"
      ]
     },
     "execution_count": 17,
     "metadata": {},
     "output_type": "execute_result"
    }
   ],
   "source": [
    "d[1,2]"
   ]
  },
  {
   "cell_type": "code",
   "execution_count": 18,
   "id": "2046d1c8",
   "metadata": {},
   "outputs": [
    {
     "data": {
      "text/plain": [
       "array([5, 6, 7, 8])"
      ]
     },
     "execution_count": 18,
     "metadata": {},
     "output_type": "execute_result"
    }
   ],
   "source": [
    "d[1,:]"
   ]
  },
  {
   "cell_type": "code",
   "execution_count": 19,
   "id": "752af071",
   "metadata": {},
   "outputs": [
    {
     "data": {
      "text/plain": [
       "array([1, 2, 3, 4])"
      ]
     },
     "execution_count": 19,
     "metadata": {},
     "output_type": "execute_result"
    }
   ],
   "source": [
    "d[0,:]"
   ]
  },
  {
   "cell_type": "code",
   "execution_count": 20,
   "id": "e9ef5531",
   "metadata": {},
   "outputs": [
    {
     "data": {
      "text/plain": [
       "array([ 4,  8, 12])"
      ]
     },
     "execution_count": 20,
     "metadata": {},
     "output_type": "execute_result"
    }
   ],
   "source": [
    "d[:,3]"
   ]
  },
  {
   "cell_type": "code",
   "execution_count": 21,
   "id": "ec0f499d",
   "metadata": {},
   "outputs": [
    {
     "data": {
      "text/plain": [
       "array([ 2,  6, 10])"
      ]
     },
     "execution_count": 21,
     "metadata": {},
     "output_type": "execute_result"
    }
   ],
   "source": [
    "d[:,1]"
   ]
  },
  {
   "cell_type": "code",
   "execution_count": 22,
   "id": "5acfd9cf",
   "metadata": {},
   "outputs": [
    {
     "data": {
      "text/plain": [
       "array([2, 3])"
      ]
     },
     "execution_count": 22,
     "metadata": {},
     "output_type": "execute_result"
    }
   ],
   "source": [
    "d[0,1:3]"
   ]
  },
  {
   "cell_type": "code",
   "execution_count": 23,
   "id": "6efeabd1",
   "metadata": {},
   "outputs": [
    {
     "data": {
      "text/plain": [
       "array([6])"
      ]
     },
     "execution_count": 23,
     "metadata": {},
     "output_type": "execute_result"
    }
   ],
   "source": [
    "d[1,1:2]"
   ]
  },
  {
   "cell_type": "code",
   "execution_count": 24,
   "id": "ac27581c",
   "metadata": {},
   "outputs": [
    {
     "data": {
      "text/plain": [
       "array([6, 7])"
      ]
     },
     "execution_count": 24,
     "metadata": {},
     "output_type": "execute_result"
    }
   ],
   "source": [
    "d[1,1:3]"
   ]
  },
  {
   "cell_type": "code",
   "execution_count": 25,
   "id": "f04f26de",
   "metadata": {},
   "outputs": [
    {
     "data": {
      "text/plain": [
       "array([2])"
      ]
     },
     "execution_count": 25,
     "metadata": {},
     "output_type": "execute_result"
    }
   ],
   "source": [
    "d[0,1:3:2]"
   ]
  },
  {
   "cell_type": "code",
   "execution_count": 26,
   "id": "59c4d673",
   "metadata": {},
   "outputs": [
    {
     "name": "stdout",
     "output_type": "stream",
     "text": [
      "[[100   2   3   4]\n",
      " [  5   6   7   8]\n",
      " [  9  10  11  12]]\n"
     ]
    }
   ],
   "source": [
    "d[0,0] = 100\n",
    "print(d)"
   ]
  },
  {
   "cell_type": "code",
   "execution_count": 27,
   "id": "54124d7e",
   "metadata": {},
   "outputs": [
    {
     "name": "stdout",
     "output_type": "stream",
     "text": [
      "[[100   2   3 100]\n",
      " [  5   6   7   8]\n",
      " [  9  10  11  12]]\n"
     ]
    }
   ],
   "source": [
    "d[0,3] = 100\n",
    "print(d)"
   ]
  },
  {
   "cell_type": "markdown",
   "id": "60ffe001",
   "metadata": {},
   "source": [
    "# 5.20.3 Matrix pada Numpy"
   ]
  },
  {
   "cell_type": "code",
   "execution_count": 28,
   "id": "e8e0ffb3",
   "metadata": {},
   "outputs": [],
   "source": [
    "import numpy as np"
   ]
  },
  {
   "cell_type": "code",
   "execution_count": 29,
   "id": "01a3f2ca",
   "metadata": {},
   "outputs": [
    {
     "data": {
      "text/plain": [
       "array([[1., 1., 1.],\n",
       "       [1., 1., 1.]])"
      ]
     },
     "execution_count": 29,
     "metadata": {},
     "output_type": "execute_result"
    }
   ],
   "source": [
    "np.ones((2,3))"
   ]
  },
  {
   "cell_type": "code",
   "execution_count": 30,
   "id": "4ccba415",
   "metadata": {},
   "outputs": [
    {
     "data": {
      "text/plain": [
       "array([[1., 1.],\n",
       "       [1., 1.],\n",
       "       [1., 1.]])"
      ]
     },
     "execution_count": 30,
     "metadata": {},
     "output_type": "execute_result"
    }
   ],
   "source": [
    "np.ones((3,2))"
   ]
  },
  {
   "cell_type": "code",
   "execution_count": 32,
   "id": "487c47d9",
   "metadata": {},
   "outputs": [
    {
     "data": {
      "text/plain": [
       "array([[0., 0., 0., 0.],\n",
       "       [0., 0., 0., 0.]])"
      ]
     },
     "execution_count": 32,
     "metadata": {},
     "output_type": "execute_result"
    }
   ],
   "source": [
    "np.zeros((2,4))"
   ]
  },
  {
   "cell_type": "code",
   "execution_count": 33,
   "id": "987dbcf2",
   "metadata": {},
   "outputs": [
    {
     "data": {
      "text/plain": [
       "array([[1., 0., 0., 0.],\n",
       "       [0., 1., 0., 0.],\n",
       "       [0., 0., 1., 0.],\n",
       "       [0., 0., 0., 1.]])"
      ]
     },
     "execution_count": 33,
     "metadata": {},
     "output_type": "execute_result"
    }
   ],
   "source": [
    "np.identity(4)"
   ]
  },
  {
   "cell_type": "code",
   "execution_count": 35,
   "id": "c2efeb52",
   "metadata": {},
   "outputs": [
    {
     "data": {
      "text/plain": [
       "array([[1., 0., 0.],\n",
       "       [0., 1., 0.],\n",
       "       [0., 0., 1.]])"
      ]
     },
     "execution_count": 35,
     "metadata": {},
     "output_type": "execute_result"
    }
   ],
   "source": [
    "np.identity(3)"
   ]
  },
  {
   "cell_type": "code",
   "execution_count": 37,
   "id": "78bdf45f",
   "metadata": {},
   "outputs": [
    {
     "data": {
      "text/plain": [
       "array([[[1., 1., 1., 1.],\n",
       "        [1., 1., 1., 1.],\n",
       "        [1., 1., 1., 1.]],\n",
       "\n",
       "       [[1., 1., 1., 1.],\n",
       "        [1., 1., 1., 1.],\n",
       "        [1., 1., 1., 1.]]])"
      ]
     },
     "execution_count": 37,
     "metadata": {},
     "output_type": "execute_result"
    }
   ],
   "source": [
    "np.ones((2,3,4))"
   ]
  },
  {
   "cell_type": "code",
   "execution_count": 38,
   "id": "0b34ec71",
   "metadata": {},
   "outputs": [
    {
     "data": {
      "text/plain": [
       "array([[[1., 1., 1.],\n",
       "        [1., 1., 1.],\n",
       "        [1., 1., 1.]],\n",
       "\n",
       "       [[1., 1., 1.],\n",
       "        [1., 1., 1.],\n",
       "        [1., 1., 1.]]])"
      ]
     },
     "execution_count": 38,
     "metadata": {},
     "output_type": "execute_result"
    }
   ],
   "source": [
    "np.ones((2,3,3))"
   ]
  },
  {
   "cell_type": "code",
   "execution_count": 39,
   "id": "4df4b644",
   "metadata": {},
   "outputs": [
    {
     "data": {
      "text/plain": [
       "array([[9, 9],\n",
       "       [9, 9],\n",
       "       [9, 9]])"
      ]
     },
     "execution_count": 39,
     "metadata": {},
     "output_type": "execute_result"
    }
   ],
   "source": [
    "np.full((3,2),9)"
   ]
  },
  {
   "cell_type": "code",
   "execution_count": 40,
   "id": "f5b7e23a",
   "metadata": {},
   "outputs": [
    {
     "data": {
      "text/plain": [
       "array([[5, 5, 5, 5],\n",
       "       [5, 5, 5, 5],\n",
       "       [5, 5, 5, 5]])"
      ]
     },
     "execution_count": 40,
     "metadata": {},
     "output_type": "execute_result"
    }
   ],
   "source": [
    "np.full((3,4),5)"
   ]
  },
  {
   "cell_type": "code",
   "execution_count": 41,
   "id": "7e98b368",
   "metadata": {},
   "outputs": [
    {
     "data": {
      "text/plain": [
       "array([[0.77376686, 0.53341141, 0.07799346],\n",
       "       [0.82333897, 0.12879148, 0.15851616],\n",
       "       [0.57058893, 0.69164486, 0.41427446],\n",
       "       [0.55477074, 0.81825326, 0.80896646]])"
      ]
     },
     "execution_count": 41,
     "metadata": {},
     "output_type": "execute_result"
    }
   ],
   "source": [
    "np.random.rand(4,3)"
   ]
  },
  {
   "cell_type": "code",
   "execution_count": 42,
   "id": "d82feec7",
   "metadata": {},
   "outputs": [
    {
     "data": {
      "text/plain": [
       "array([[7, 8, 4, 3],\n",
       "       [9, 7, 2, 9],\n",
       "       [4, 8, 6, 8]])"
      ]
     },
     "execution_count": 42,
     "metadata": {},
     "output_type": "execute_result"
    }
   ],
   "source": [
    "np.random.randint(1,10,size=(3,4))"
   ]
  },
  {
   "cell_type": "code",
   "execution_count": 43,
   "id": "09f058bb",
   "metadata": {},
   "outputs": [
    {
     "data": {
      "text/plain": [
       "array([[ 5,  5,  6,  5],\n",
       "       [ 5, 14,  5,  8],\n",
       "       [10,  5, 11,  7]])"
      ]
     },
     "execution_count": 43,
     "metadata": {},
     "output_type": "execute_result"
    }
   ],
   "source": [
    "np.random.randint(5,15,size=(3,4))"
   ]
  },
  {
   "cell_type": "markdown",
   "id": "6acb5645",
   "metadata": {},
   "source": [
    "# Latihan: Buatlah matrik ukuran 10 x10 berikut dengan menggunakan Numpy"
   ]
  },
  {
   "cell_type": "code",
   "execution_count": 44,
   "id": "c0d162c3",
   "metadata": {},
   "outputs": [],
   "source": [
    "import numpy as np"
   ]
  },
  {
   "cell_type": "code",
   "execution_count": 46,
   "id": "826ce068",
   "metadata": {},
   "outputs": [
    {
     "name": "stdout",
     "output_type": "stream",
     "text": [
      "[[0. 0. 0. 0. 0. 0. 0. 0. 0. 0.]\n",
      " [0. 0. 0. 0. 0. 0. 0. 0. 0. 0.]\n",
      " [0. 0. 0. 0. 0. 0. 0. 0. 0. 0.]\n",
      " [0. 0. 0. 0. 0. 0. 0. 0. 0. 0.]\n",
      " [0. 0. 0. 0. 0. 0. 0. 0. 0. 0.]\n",
      " [0. 0. 0. 0. 0. 0. 0. 0. 0. 0.]\n",
      " [0. 0. 0. 0. 0. 0. 0. 0. 0. 0.]\n",
      " [0. 0. 0. 0. 0. 0. 0. 0. 0. 0.]\n",
      " [0. 0. 0. 0. 0. 0. 0. 0. 0. 0.]\n",
      " [0. 0. 0. 0. 0. 0. 0. 0. 0. 0.]]\n"
     ]
    }
   ],
   "source": [
    "a = np.zeros((10,10))\n",
    "print(a)"
   ]
  },
  {
   "cell_type": "code",
   "execution_count": 47,
   "id": "afcc7e9c",
   "metadata": {},
   "outputs": [
    {
     "name": "stdout",
     "output_type": "stream",
     "text": [
      "[[1. 0. 0. 0. 0. 0. 0. 0. 0. 0.]\n",
      " [0. 1. 0. 0. 0. 0. 0. 0. 0. 0.]\n",
      " [0. 0. 1. 0. 0. 0. 0. 0. 0. 0.]\n",
      " [0. 0. 0. 1. 0. 0. 0. 0. 0. 0.]\n",
      " [0. 0. 0. 0. 1. 0. 0. 0. 0. 0.]\n",
      " [0. 0. 0. 0. 0. 1. 0. 0. 0. 0.]\n",
      " [0. 0. 0. 0. 0. 0. 1. 0. 0. 0.]\n",
      " [0. 0. 0. 0. 0. 0. 0. 1. 0. 0.]\n",
      " [0. 0. 0. 0. 0. 0. 0. 0. 1. 0.]\n",
      " [0. 0. 0. 0. 0. 0. 0. 0. 0. 1.]]\n"
     ]
    }
   ],
   "source": [
    "b = np.identity(10)\n",
    "print(b)"
   ]
  },
  {
   "cell_type": "code",
   "execution_count": 48,
   "id": "c344823d",
   "metadata": {},
   "outputs": [
    {
     "name": "stdout",
     "output_type": "stream",
     "text": [
      "[[9. 0. 0. 0. 0. 0. 0. 0. 0. 0.]\n",
      " [0. 9. 0. 0. 0. 0. 0. 0. 0. 0.]\n",
      " [0. 0. 9. 0. 0. 0. 0. 0. 0. 0.]\n",
      " [0. 0. 0. 9. 0. 0. 0. 0. 0. 0.]\n",
      " [0. 0. 0. 0. 9. 0. 0. 0. 0. 0.]\n",
      " [0. 0. 0. 0. 0. 9. 0. 0. 0. 0.]\n",
      " [0. 0. 0. 0. 0. 0. 9. 0. 0. 0.]\n",
      " [0. 0. 0. 0. 0. 0. 0. 9. 0. 0.]\n",
      " [0. 0. 0. 0. 0. 0. 0. 0. 9. 0.]\n",
      " [0. 0. 0. 0. 0. 0. 0. 0. 0. 9.]]\n"
     ]
    }
   ],
   "source": [
    "c = 9*b\n",
    "print(c)"
   ]
  },
  {
   "cell_type": "code",
   "execution_count": 49,
   "id": "82f4c98d",
   "metadata": {},
   "outputs": [
    {
     "name": "stdout",
     "output_type": "stream",
     "text": [
      "[[9. 1. 1. 1. 1. 1. 1. 1.]\n",
      " [1. 9. 1. 1. 1. 1. 1. 1.]\n",
      " [1. 1. 9. 1. 1. 1. 1. 1.]\n",
      " [1. 1. 1. 9. 1. 1. 1. 1.]\n",
      " [1. 1. 1. 1. 9. 1. 1. 1.]\n",
      " [1. 1. 1. 1. 1. 9. 1. 1.]\n",
      " [1. 1. 1. 1. 1. 1. 9. 1.]\n",
      " [1. 1. 1. 1. 1. 1. 1. 9.]]\n"
     ]
    }
   ],
   "source": [
    "d = np.ones((8,8))\n",
    "e = np.identity(8)*8\n",
    "f = d+e\n",
    "print(f)"
   ]
  },
  {
   "cell_type": "code",
   "execution_count": 51,
   "id": "c96552b2",
   "metadata": {},
   "outputs": [
    {
     "name": "stdout",
     "output_type": "stream",
     "text": [
      "[[9. 0. 0. 0. 0. 0. 0. 0. 0. 0.]\n",
      " [0. 9. 1. 1. 1. 1. 1. 1. 1. 0.]\n",
      " [0. 1. 9. 1. 1. 1. 1. 1. 1. 0.]\n",
      " [0. 1. 1. 9. 1. 1. 1. 1. 1. 0.]\n",
      " [0. 1. 1. 1. 9. 1. 1. 1. 1. 0.]\n",
      " [0. 1. 1. 1. 1. 9. 1. 1. 1. 0.]\n",
      " [0. 1. 1. 1. 1. 1. 9. 1. 1. 0.]\n",
      " [0. 1. 1. 1. 1. 1. 1. 9. 1. 0.]\n",
      " [0. 1. 1. 1. 1. 1. 1. 1. 9. 0.]\n",
      " [0. 0. 0. 0. 0. 0. 0. 0. 0. 9.]]\n"
     ]
    }
   ],
   "source": [
    "c[1:-1,1:-1] = f\n",
    "print(c)"
   ]
  },
  {
   "cell_type": "code",
   "execution_count": 56,
   "id": "d3151410",
   "metadata": {},
   "outputs": [
    {
     "name": "stdout",
     "output_type": "stream",
     "text": [
      "[[9. 0. 0. 0. 0. 0. 0. 0. 0. 0.]\n",
      " [0. 9. 1. 1. 1. 1. 1. 1. 1. 0.]\n",
      " [0. 1. 9. 0. 0. 0. 0. 0. 1. 0.]\n",
      " [0. 1. 0. 9. 0. 0. 0. 0. 1. 0.]\n",
      " [0. 1. 0. 0. 9. 0. 0. 0. 1. 0.]\n",
      " [0. 1. 0. 0. 0. 9. 0. 0. 1. 0.]\n",
      " [0. 1. 0. 0. 0. 0. 9. 0. 1. 0.]\n",
      " [0. 1. 0. 0. 0. 0. 0. 9. 1. 0.]\n",
      " [0. 1. 1. 1. 1. 1. 1. 1. 9. 0.]\n",
      " [0. 0. 0. 0. 0. 0. 0. 0. 0. 9.]]\n"
     ]
    }
   ],
   "source": [
    "g = np.identity(6)*9\n",
    "c[2:-2,2:-2] = g\n",
    "print(c)"
   ]
  },
  {
   "cell_type": "code",
   "execution_count": 60,
   "id": "740bfe11",
   "metadata": {},
   "outputs": [
    {
     "name": "stdout",
     "output_type": "stream",
     "text": [
      "[[9. 2. 2. 2.]\n",
      " [2. 9. 2. 2.]\n",
      " [2. 2. 9. 2.]\n",
      " [2. 2. 2. 9.]]\n"
     ]
    }
   ],
   "source": [
    "h = np.ones((4,4))*2\n",
    "i = np.identity(4) * 7\n",
    "j = h + i\n",
    "print(j)"
   ]
  },
  {
   "cell_type": "code",
   "execution_count": 61,
   "id": "56a4d60b",
   "metadata": {},
   "outputs": [
    {
     "name": "stdout",
     "output_type": "stream",
     "text": [
      "[[9. 0. 0. 0. 0. 0. 0. 0. 0. 0.]\n",
      " [0. 9. 1. 1. 1. 1. 1. 1. 1. 0.]\n",
      " [0. 1. 9. 0. 0. 0. 0. 0. 1. 0.]\n",
      " [0. 1. 0. 9. 2. 2. 2. 0. 1. 0.]\n",
      " [0. 1. 0. 2. 9. 2. 2. 0. 1. 0.]\n",
      " [0. 1. 0. 2. 2. 9. 2. 0. 1. 0.]\n",
      " [0. 1. 0. 2. 2. 2. 9. 0. 1. 0.]\n",
      " [0. 1. 0. 0. 0. 0. 0. 9. 1. 0.]\n",
      " [0. 1. 1. 1. 1. 1. 1. 1. 9. 0.]\n",
      " [0. 0. 0. 0. 0. 0. 0. 0. 0. 9.]]\n"
     ]
    }
   ],
   "source": [
    "c[3:-3,3:-3] = j\n",
    "print(c)"
   ]
  },
  {
   "cell_type": "code",
   "execution_count": 62,
   "id": "fce1c9e8",
   "metadata": {},
   "outputs": [
    {
     "name": "stdout",
     "output_type": "stream",
     "text": [
      "[[9. 0. 0. 0. 0. 0. 0. 0. 0. 0.]\n",
      " [0. 9. 1. 1. 1. 1. 1. 1. 1. 0.]\n",
      " [0. 1. 9. 0. 0. 0. 0. 0. 1. 0.]\n",
      " [0. 1. 0. 9. 2. 2. 2. 0. 1. 0.]\n",
      " [0. 1. 0. 2. 9. 0. 2. 0. 1. 0.]\n",
      " [0. 1. 0. 2. 0. 9. 2. 0. 1. 0.]\n",
      " [0. 1. 0. 2. 2. 2. 9. 0. 1. 0.]\n",
      " [0. 1. 0. 0. 0. 0. 0. 9. 1. 0.]\n",
      " [0. 1. 1. 1. 1. 1. 1. 1. 9. 0.]\n",
      " [0. 0. 0. 0. 0. 0. 0. 0. 0. 9.]]\n"
     ]
    }
   ],
   "source": [
    "k = np.identity(2)*9\n",
    "c[4:-4,4:-4] = k\n",
    "print(c)"
   ]
  },
  {
   "cell_type": "markdown",
   "id": "790ddfea",
   "metadata": {},
   "source": [
    "# 5.20.4 Copy pada Numpy"
   ]
  },
  {
   "cell_type": "code",
   "execution_count": 63,
   "id": "8adcd7ae",
   "metadata": {},
   "outputs": [],
   "source": [
    "import numpy as np"
   ]
  },
  {
   "cell_type": "code",
   "execution_count": 64,
   "id": "070700cc",
   "metadata": {},
   "outputs": [
    {
     "name": "stdout",
     "output_type": "stream",
     "text": [
      "[1 2 3 4 5]\n"
     ]
    }
   ],
   "source": [
    "a = np.array([1,2,3,4,5])\n",
    "print(a)"
   ]
  },
  {
   "cell_type": "code",
   "execution_count": 65,
   "id": "9992eaa9",
   "metadata": {},
   "outputs": [
    {
     "name": "stdout",
     "output_type": "stream",
     "text": [
      "[1 2 3 4 5]\n"
     ]
    }
   ],
   "source": [
    "b = a\n",
    "print(b)"
   ]
  },
  {
   "cell_type": "code",
   "execution_count": 66,
   "id": "64bff7fb",
   "metadata": {},
   "outputs": [
    {
     "name": "stdout",
     "output_type": "stream",
     "text": [
      "[10  2  3  4  5]\n"
     ]
    }
   ],
   "source": [
    "b[0] = 10\n",
    "print(b)"
   ]
  },
  {
   "cell_type": "code",
   "execution_count": 67,
   "id": "095cb11b",
   "metadata": {},
   "outputs": [
    {
     "name": "stdout",
     "output_type": "stream",
     "text": [
      "[10  2  3  4  5]\n"
     ]
    }
   ],
   "source": [
    "print(a)"
   ]
  },
  {
   "cell_type": "code",
   "execution_count": 68,
   "id": "44255893",
   "metadata": {},
   "outputs": [
    {
     "name": "stdout",
     "output_type": "stream",
     "text": [
      "[1 2 3 4 5]\n"
     ]
    }
   ],
   "source": [
    "c = np.array([1,2,3,4,5])\n",
    "print(c)"
   ]
  },
  {
   "cell_type": "code",
   "execution_count": 69,
   "id": "45153b5b",
   "metadata": {},
   "outputs": [
    {
     "name": "stdout",
     "output_type": "stream",
     "text": [
      "[1 2 3 4 5]\n"
     ]
    }
   ],
   "source": [
    "d = c.copy()\n",
    "print(d)"
   ]
  },
  {
   "cell_type": "code",
   "execution_count": 70,
   "id": "b662efb5",
   "metadata": {},
   "outputs": [
    {
     "name": "stdout",
     "output_type": "stream",
     "text": [
      "[10  2  3  4  5]\n"
     ]
    }
   ],
   "source": [
    "d[0] = 10\n",
    "print(d)"
   ]
  },
  {
   "cell_type": "code",
   "execution_count": 71,
   "id": "e29ddfb9",
   "metadata": {},
   "outputs": [
    {
     "name": "stdout",
     "output_type": "stream",
     "text": [
      "[ 10 100   3   4   5]\n"
     ]
    }
   ],
   "source": [
    "d[1] = 100\n",
    "print(d)"
   ]
  },
  {
   "cell_type": "code",
   "execution_count": 72,
   "id": "54de9eaa",
   "metadata": {},
   "outputs": [
    {
     "name": "stdout",
     "output_type": "stream",
     "text": [
      "[1 2 3 4 5]\n"
     ]
    }
   ],
   "source": [
    "print(c)"
   ]
  },
  {
   "cell_type": "markdown",
   "id": "ff832c03",
   "metadata": {},
   "source": [
    "# 5.20.5 Operasi Matematika pada Numpy"
   ]
  },
  {
   "cell_type": "code",
   "execution_count": 73,
   "id": "467d6996",
   "metadata": {},
   "outputs": [
    {
     "data": {
      "text/plain": [
       "array([12,  4,  5,  6,  7])"
      ]
     },
     "execution_count": 73,
     "metadata": {},
     "output_type": "execute_result"
    }
   ],
   "source": [
    "a+2"
   ]
  },
  {
   "cell_type": "code",
   "execution_count": 74,
   "id": "0538b145",
   "metadata": {},
   "outputs": [
    {
     "data": {
      "text/plain": [
       "array([8, 0, 1, 2, 3])"
      ]
     },
     "execution_count": 74,
     "metadata": {},
     "output_type": "execute_result"
    }
   ],
   "source": [
    "a-2"
   ]
  },
  {
   "cell_type": "code",
   "execution_count": 75,
   "id": "b812aa49",
   "metadata": {},
   "outputs": [
    {
     "data": {
      "text/plain": [
       "array([20,  4,  6,  8, 10])"
      ]
     },
     "execution_count": 75,
     "metadata": {},
     "output_type": "execute_result"
    }
   ],
   "source": [
    "a*2"
   ]
  },
  {
   "cell_type": "code",
   "execution_count": 76,
   "id": "70fe2ece",
   "metadata": {},
   "outputs": [
    {
     "data": {
      "text/plain": [
       "array([5. , 1. , 1.5, 2. , 2.5])"
      ]
     },
     "execution_count": 76,
     "metadata": {},
     "output_type": "execute_result"
    }
   ],
   "source": [
    "a/2"
   ]
  },
  {
   "cell_type": "code",
   "execution_count": 77,
   "id": "9bcd9597",
   "metadata": {},
   "outputs": [
    {
     "data": {
      "text/plain": [
       "array([100,   4,   9,  16,  25], dtype=int32)"
      ]
     },
     "execution_count": 77,
     "metadata": {},
     "output_type": "execute_result"
    }
   ],
   "source": [
    "a**2"
   ]
  },
  {
   "cell_type": "code",
   "execution_count": 78,
   "id": "b52ce9d8",
   "metadata": {},
   "outputs": [
    {
     "name": "stdout",
     "output_type": "stream",
     "text": [
      "[ 6  7  8  9 10]\n"
     ]
    }
   ],
   "source": [
    "b = np.array([6,7,8,9,10])\n",
    "print(b)"
   ]
  },
  {
   "cell_type": "code",
   "execution_count": 79,
   "id": "cdd2adf7",
   "metadata": {},
   "outputs": [
    {
     "data": {
      "text/plain": [
       "array([16,  9, 11, 13, 15])"
      ]
     },
     "execution_count": 79,
     "metadata": {},
     "output_type": "execute_result"
    }
   ],
   "source": [
    "a+b"
   ]
  },
  {
   "cell_type": "code",
   "execution_count": 80,
   "id": "5cc4b8bb",
   "metadata": {},
   "outputs": [
    {
     "data": {
      "text/plain": [
       "array([ 4, -5, -5, -5, -5])"
      ]
     },
     "execution_count": 80,
     "metadata": {},
     "output_type": "execute_result"
    }
   ],
   "source": [
    "a-b"
   ]
  },
  {
   "cell_type": "code",
   "execution_count": 81,
   "id": "9ffceb99",
   "metadata": {},
   "outputs": [
    {
     "data": {
      "text/plain": [
       "array([60, 14, 24, 36, 50])"
      ]
     },
     "execution_count": 81,
     "metadata": {},
     "output_type": "execute_result"
    }
   ],
   "source": [
    "a*b"
   ]
  },
  {
   "cell_type": "code",
   "execution_count": 82,
   "id": "1aec12c9",
   "metadata": {},
   "outputs": [
    {
     "data": {
      "text/plain": [
       "array([1.66666667, 0.28571429, 0.375     , 0.44444444, 0.5       ])"
      ]
     },
     "execution_count": 82,
     "metadata": {},
     "output_type": "execute_result"
    }
   ],
   "source": [
    "a/b"
   ]
  },
  {
   "cell_type": "code",
   "execution_count": 83,
   "id": "8a9fbfa3",
   "metadata": {},
   "outputs": [
    {
     "data": {
      "text/plain": [
       "array([60466176,       49,      512,     6561,   100000], dtype=int32)"
      ]
     },
     "execution_count": 83,
     "metadata": {},
     "output_type": "execute_result"
    }
   ],
   "source": [
    "b**a"
   ]
  },
  {
   "cell_type": "code",
   "execution_count": 84,
   "id": "f2c13517",
   "metadata": {},
   "outputs": [
    {
     "data": {
      "text/plain": [
       "array([-0.83907153, -0.41614684, -0.9899925 , -0.65364362,  0.28366219])"
      ]
     },
     "execution_count": 84,
     "metadata": {},
     "output_type": "execute_result"
    }
   ],
   "source": [
    "np.cos(a)"
   ]
  },
  {
   "cell_type": "code",
   "execution_count": 85,
   "id": "438150c3",
   "metadata": {},
   "outputs": [
    {
     "data": {
      "text/plain": [
       "array([ 0.96017029,  0.75390225, -0.14550003, -0.91113026, -0.83907153])"
      ]
     },
     "execution_count": 85,
     "metadata": {},
     "output_type": "execute_result"
    }
   ],
   "source": [
    "np.cos(b)"
   ]
  },
  {
   "cell_type": "code",
   "execution_count": 86,
   "id": "8e889ecd",
   "metadata": {},
   "outputs": [
    {
     "data": {
      "text/plain": [
       "array([ 0.64836083, -2.18503986, -0.14254654,  1.15782128, -3.38051501])"
      ]
     },
     "execution_count": 86,
     "metadata": {},
     "output_type": "execute_result"
    }
   ],
   "source": [
    "np.tan(a)"
   ]
  },
  {
   "cell_type": "code",
   "execution_count": 88,
   "id": "a6c625a6",
   "metadata": {},
   "outputs": [
    {
     "data": {
      "text/plain": [
       "array([1.10132329e+04, 3.62686041e+00, 1.00178749e+01, 2.72899172e+01,\n",
       "       7.42032106e+01])"
      ]
     },
     "execution_count": 88,
     "metadata": {},
     "output_type": "execute_result"
    }
   ],
   "source": [
    "np.sinh(a)"
   ]
  },
  {
   "cell_type": "code",
   "execution_count": 89,
   "id": "d8c11d3c",
   "metadata": {},
   "outputs": [
    {
     "data": {
      "text/plain": [
       "array([1.10132329e+04, 3.76219569e+00, 1.00676620e+01, 2.73082328e+01,\n",
       "       7.42099485e+01])"
      ]
     },
     "execution_count": 89,
     "metadata": {},
     "output_type": "execute_result"
    }
   ],
   "source": [
    "np.cosh(a)"
   ]
  },
  {
   "cell_type": "code",
   "execution_count": 90,
   "id": "5df07477",
   "metadata": {},
   "outputs": [
    {
     "data": {
      "text/plain": [
       "array([1.        , 0.96402758, 0.99505475, 0.9993293 , 0.9999092 ])"
      ]
     },
     "execution_count": 90,
     "metadata": {},
     "output_type": "execute_result"
    }
   ],
   "source": [
    "np.tanh(a)"
   ]
  },
  {
   "cell_type": "code",
   "execution_count": 91,
   "id": "f79a454b",
   "metadata": {},
   "outputs": [
    {
     "data": {
      "text/plain": [
       "array([3.16227766, 1.41421356, 1.73205081, 2.        , 2.23606798])"
      ]
     },
     "execution_count": 91,
     "metadata": {},
     "output_type": "execute_result"
    }
   ],
   "source": [
    "np.sqrt(a)"
   ]
  },
  {
   "cell_type": "markdown",
   "id": "28f1bb58",
   "metadata": {},
   "source": [
    "# 5.20.6 Perkalian Matrik pada Numpy"
   ]
  },
  {
   "cell_type": "code",
   "execution_count": 93,
   "id": "9a8fcfcf",
   "metadata": {},
   "outputs": [],
   "source": [
    "import numpy as np"
   ]
  },
  {
   "cell_type": "code",
   "execution_count": 96,
   "id": "c0db3ae4",
   "metadata": {},
   "outputs": [
    {
     "name": "stdout",
     "output_type": "stream",
     "text": [
      "[[1 2 3 4]\n",
      " [5 6 7 8]]\n"
     ]
    }
   ],
   "source": [
    "a = np.array([[1,2,3,4],[5,6,7,8]])\n",
    "print(a)"
   ]
  },
  {
   "cell_type": "code",
   "execution_count": 97,
   "id": "0ae5c068",
   "metadata": {},
   "outputs": [
    {
     "name": "stdout",
     "output_type": "stream",
     "text": [
      "[[ 9 10 11 12]\n",
      " [13 14 15 16]]\n"
     ]
    }
   ],
   "source": [
    "b = np.array([[9,10,11,12],[13,14,15,16]])\n",
    "print(b)"
   ]
  },
  {
   "cell_type": "code",
   "execution_count": 99,
   "id": "aea929fc",
   "metadata": {},
   "outputs": [
    {
     "name": "stdout",
     "output_type": "stream",
     "text": [
      "[[  9  20  33  48]\n",
      " [ 65  84 105 128]]\n"
     ]
    }
   ],
   "source": [
    "c = a*b\n",
    "print(c)"
   ]
  },
  {
   "cell_type": "code",
   "execution_count": 100,
   "id": "bdfba61f",
   "metadata": {},
   "outputs": [
    {
     "ename": "ValueError",
     "evalue": "matmul: Input operand 1 has a mismatch in its core dimension 0, with gufunc signature (n?,k),(k,m?)->(n?,m?) (size 2 is different from 4)",
     "output_type": "error",
     "traceback": [
      "\u001b[1;31m---------------------------------------------------------------------------\u001b[0m",
      "\u001b[1;31mValueError\u001b[0m                                Traceback (most recent call last)",
      "\u001b[1;32m~\\AppData\\Local\\Temp/ipykernel_9528/961255019.py\u001b[0m in \u001b[0;36m<module>\u001b[1;34m\u001b[0m\n\u001b[1;32m----> 1\u001b[1;33m \u001b[0md\u001b[0m \u001b[1;33m=\u001b[0m \u001b[0mnp\u001b[0m\u001b[1;33m.\u001b[0m\u001b[0mmatmul\u001b[0m\u001b[1;33m(\u001b[0m\u001b[0ma\u001b[0m\u001b[1;33m,\u001b[0m\u001b[0mb\u001b[0m\u001b[1;33m)\u001b[0m\u001b[1;33m\u001b[0m\u001b[1;33m\u001b[0m\u001b[0m\n\u001b[0m",
      "\u001b[1;31mValueError\u001b[0m: matmul: Input operand 1 has a mismatch in its core dimension 0, with gufunc signature (n?,k),(k,m?)->(n?,m?) (size 2 is different from 4)"
     ]
    }
   ],
   "source": [
    "d = np.matmul(a,b)"
   ]
  },
  {
   "cell_type": "code",
   "execution_count": 101,
   "id": "bf691fa8",
   "metadata": {},
   "outputs": [
    {
     "name": "stdout",
     "output_type": "stream",
     "text": [
      "[[ 9 10]\n",
      " [11 12]\n",
      " [13 14]\n",
      " [15 16]]\n"
     ]
    }
   ],
   "source": [
    "e = np.array([[9,10],[11,12],[13,14],[15,16]])\n",
    "print(e)"
   ]
  },
  {
   "cell_type": "code",
   "execution_count": 103,
   "id": "09850642",
   "metadata": {},
   "outputs": [
    {
     "name": "stdout",
     "output_type": "stream",
     "text": [
      "[[130 140]\n",
      " [322 348]]\n"
     ]
    }
   ],
   "source": [
    "f = np.matmul(a,e)\n",
    "print(f)"
   ]
  },
  {
   "cell_type": "code",
   "execution_count": 104,
   "id": "467f9eb0",
   "metadata": {},
   "outputs": [
    {
     "ename": "ValueError",
     "evalue": "operands could not be broadcast together with shapes (2,4) (4,2) ",
     "output_type": "error",
     "traceback": [
      "\u001b[1;31m---------------------------------------------------------------------------\u001b[0m",
      "\u001b[1;31mValueError\u001b[0m                                Traceback (most recent call last)",
      "\u001b[1;32m~\\AppData\\Local\\Temp/ipykernel_9528/2513138200.py\u001b[0m in \u001b[0;36m<module>\u001b[1;34m\u001b[0m\n\u001b[1;32m----> 1\u001b[1;33m \u001b[0mg\u001b[0m \u001b[1;33m=\u001b[0m \u001b[0ma\u001b[0m\u001b[1;33m*\u001b[0m\u001b[0me\u001b[0m\u001b[1;33m\u001b[0m\u001b[1;33m\u001b[0m\u001b[0m\n\u001b[0m",
      "\u001b[1;31mValueError\u001b[0m: operands could not be broadcast together with shapes (2,4) (4,2) "
     ]
    }
   ],
   "source": [
    "g = a*e"
   ]
  },
  {
   "cell_type": "markdown",
   "id": "f16f5d7d",
   "metadata": {},
   "source": [
    "# 5.20.7 min, max, dan sum pada Numpy"
   ]
  },
  {
   "cell_type": "code",
   "execution_count": 105,
   "id": "d521aecd",
   "metadata": {},
   "outputs": [
    {
     "name": "stdout",
     "output_type": "stream",
     "text": [
      "[[ 1  2  3  4]\n",
      " [ 5  6  7  8]\n",
      " [ 9 10 11 12]]\n"
     ]
    }
   ],
   "source": [
    "a = np.array([[1,2,3,4],[5,6,7,8],[9,10,11,12]])\n",
    "print(a)"
   ]
  },
  {
   "cell_type": "code",
   "execution_count": 106,
   "id": "58657e29",
   "metadata": {},
   "outputs": [
    {
     "name": "stdout",
     "output_type": "stream",
     "text": [
      "1\n"
     ]
    }
   ],
   "source": [
    "b = np.min(a)\n",
    "print(b)"
   ]
  },
  {
   "cell_type": "code",
   "execution_count": 107,
   "id": "ce96e038",
   "metadata": {},
   "outputs": [
    {
     "name": "stdout",
     "output_type": "stream",
     "text": [
      "[1 2 3 4]\n"
     ]
    }
   ],
   "source": [
    "c = np.min(a,axis=0)\n",
    "print(c)"
   ]
  },
  {
   "cell_type": "code",
   "execution_count": 108,
   "id": "a1762dab",
   "metadata": {},
   "outputs": [
    {
     "name": "stdout",
     "output_type": "stream",
     "text": [
      "[1 5 9]\n"
     ]
    }
   ],
   "source": [
    "d = np.min(a,axis=1)\n",
    "print(d)"
   ]
  },
  {
   "cell_type": "code",
   "execution_count": 110,
   "id": "5d68e379",
   "metadata": {},
   "outputs": [
    {
     "name": "stdout",
     "output_type": "stream",
     "text": [
      "12\n"
     ]
    }
   ],
   "source": [
    "e = np.max(a)\n",
    "print(e)"
   ]
  },
  {
   "cell_type": "code",
   "execution_count": 111,
   "id": "6d1a4f06",
   "metadata": {},
   "outputs": [
    {
     "name": "stdout",
     "output_type": "stream",
     "text": [
      "[ 9 10 11 12]\n"
     ]
    }
   ],
   "source": [
    "f = np.max(a,axis=0)\n",
    "print(f)"
   ]
  },
  {
   "cell_type": "code",
   "execution_count": 112,
   "id": "862013c6",
   "metadata": {},
   "outputs": [
    {
     "name": "stdout",
     "output_type": "stream",
     "text": [
      "[ 4  8 12]\n"
     ]
    }
   ],
   "source": [
    "g = np.max(a,axis=1)\n",
    "print(g)"
   ]
  },
  {
   "cell_type": "code",
   "execution_count": 113,
   "id": "00d4130e",
   "metadata": {},
   "outputs": [
    {
     "name": "stdout",
     "output_type": "stream",
     "text": [
      "78\n"
     ]
    }
   ],
   "source": [
    "h = np.sum(a)\n",
    "print(h)"
   ]
  },
  {
   "cell_type": "code",
   "execution_count": 115,
   "id": "de155500",
   "metadata": {},
   "outputs": [
    {
     "name": "stdout",
     "output_type": "stream",
     "text": [
      "[15 18 21 24]\n"
     ]
    }
   ],
   "source": [
    "h = np.sum(a,axis=0)\n",
    "print(h)"
   ]
  },
  {
   "cell_type": "code",
   "execution_count": 117,
   "id": "0f1214fa",
   "metadata": {},
   "outputs": [
    {
     "name": "stdout",
     "output_type": "stream",
     "text": [
      "[10 26 42]\n"
     ]
    }
   ],
   "source": [
    "i = np.sum(a,axis=1)\n",
    "print(i)"
   ]
  }
 ],
 "metadata": {
  "kernelspec": {
   "display_name": "Python 3 (ipykernel)",
   "language": "python",
   "name": "python3"
  },
  "language_info": {
   "codemirror_mode": {
    "name": "ipython",
    "version": 3
   },
   "file_extension": ".py",
   "mimetype": "text/x-python",
   "name": "python",
   "nbconvert_exporter": "python",
   "pygments_lexer": "ipython3",
   "version": "3.9.7"
  }
 },
 "nbformat": 4,
 "nbformat_minor": 5
}
