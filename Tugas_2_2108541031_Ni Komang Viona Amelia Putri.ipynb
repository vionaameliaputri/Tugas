{
 "cells": [
  {
   "cell_type": "markdown",
   "id": "2d34e51d",
   "metadata": {},
   "source": [
    "# 5.12 List di Python"
   ]
  },
  {
   "cell_type": "code",
   "execution_count": 1,
   "id": "171d6a3b",
   "metadata": {},
   "outputs": [
    {
     "name": "stdout",
     "output_type": "stream",
     "text": [
      "['merah', 'kuning', 'hijau', 'biru']\n"
     ]
    }
   ],
   "source": [
    "warna = ['merah', 'kuning', 'hijau', 'biru']\n",
    "print(warna)"
   ]
  },
  {
   "cell_type": "code",
   "execution_count": 2,
   "id": "df7f1104",
   "metadata": {},
   "outputs": [
    {
     "name": "stdout",
     "output_type": "stream",
     "text": [
      "['Kim Namjoon', 'Kim Seokjin', 'Min Yoongi', 'Jung Hoseok', 'Park Jimin', 'Kim Taehyung', 'Jeon Jungkook']\n"
     ]
    }
   ],
   "source": [
    "bts = ['Kim Namjoon', 'Kim Seokjin', 'Min Yoongi', 'Jung Hoseok', 'Park Jimin', 'Kim Taehyung', 'Jeon Jungkook']\n",
    "print(bts)"
   ]
  },
  {
   "cell_type": "code",
   "execution_count": 3,
   "id": "824c7673",
   "metadata": {},
   "outputs": [
    {
     "name": "stdout",
     "output_type": "stream",
     "text": [
      "Kim Namjoon\n"
     ]
    }
   ],
   "source": [
    "print(bts[0])"
   ]
  },
  {
   "cell_type": "code",
   "execution_count": 4,
   "id": "2795ee2c",
   "metadata": {},
   "outputs": [
    {
     "name": "stdout",
     "output_type": "stream",
     "text": [
      "Jeon Jungkook\n"
     ]
    }
   ],
   "source": [
    "print(bts[-1])"
   ]
  },
  {
   "cell_type": "code",
   "execution_count": 5,
   "id": "41729813",
   "metadata": {},
   "outputs": [
    {
     "name": "stdout",
     "output_type": "stream",
     "text": [
      "Park Jimin\n"
     ]
    }
   ],
   "source": [
    "print(bts[-3])"
   ]
  },
  {
   "cell_type": "code",
   "execution_count": 6,
   "id": "6f1a164f",
   "metadata": {},
   "outputs": [
    {
     "name": "stdout",
     "output_type": "stream",
     "text": [
      "Kim Taehyung\n"
     ]
    }
   ],
   "source": [
    "print(bts[5])"
   ]
  },
  {
   "cell_type": "code",
   "execution_count": 7,
   "id": "0f11deeb",
   "metadata": {},
   "outputs": [
    {
     "name": "stdout",
     "output_type": "stream",
     "text": [
      "['Kim Namjoon', 'Kim Seokjin', 'Min Yoongi', 'Jung Hoseok', 'Park Jimin', 'V', 'Jeon Jungkook']\n"
     ]
    }
   ],
   "source": [
    "bts[5] = 'V'\n",
    "print(bts)"
   ]
  },
  {
   "cell_type": "code",
   "execution_count": 8,
   "id": "db48210f",
   "metadata": {},
   "outputs": [
    {
     "name": "stdout",
     "output_type": "stream",
     "text": [
      "['Kim Namjoon', 'Kim Seokjin', 'Min Yoongi', 'Jung Hoseok']\n"
     ]
    }
   ],
   "source": [
    "print(bts[0:4])"
   ]
  },
  {
   "cell_type": "code",
   "execution_count": 9,
   "id": "260eeb1d",
   "metadata": {},
   "outputs": [
    {
     "name": "stdout",
     "output_type": "stream",
     "text": [
      "['Kim Namjoon', 'Kim Seokjin', 'Min Yoongi', 'Jung Hoseok', 'Park Jimin', 'V', 'Jeon Jungkook']\n"
     ]
    }
   ],
   "source": [
    "# tidak merubah list\n",
    "print(bts)"
   ]
  },
  {
   "cell_type": "markdown",
   "id": "2500b3c7",
   "metadata": {},
   "source": [
    "# 5.13 Metoda List"
   ]
  },
  {
   "cell_type": "code",
   "execution_count": 10,
   "id": "9fb79fc6",
   "metadata": {},
   "outputs": [
    {
     "name": "stdout",
     "output_type": "stream",
     "text": [
      "['Liana', 'Dhea', 'Ce Meli', 'Viona']\n"
     ]
    }
   ],
   "source": [
    "prettiest_ofc= ['Liana', 'Dhea', 'Ce Meli']\n",
    "prettiest_ofc.append('Viona')\n",
    "print(prettiest_ofc)"
   ]
  },
  {
   "cell_type": "code",
   "execution_count": 11,
   "id": "a4b3159d",
   "metadata": {},
   "outputs": [
    {
     "name": "stdout",
     "output_type": "stream",
     "text": [
      "['Angel', 'Liana', 'Dhea', 'Ce Meli', 'Viona']\n"
     ]
    }
   ],
   "source": [
    "prettiest_ofc.insert(0,'Angel')\n",
    "print(prettiest_ofc)"
   ]
  },
  {
   "cell_type": "code",
   "execution_count": 12,
   "id": "25592d09",
   "metadata": {},
   "outputs": [
    {
     "name": "stdout",
     "output_type": "stream",
     "text": [
      "['Liana', 'Dhea', 'Ce Meli', 'Viona']\n"
     ]
    }
   ],
   "source": [
    "prettiest_ofc.remove('Angel')\n",
    "print(prettiest_ofc)"
   ]
  },
  {
   "cell_type": "code",
   "execution_count": 13,
   "id": "0af9e28f",
   "metadata": {},
   "outputs": [
    {
     "name": "stdout",
     "output_type": "stream",
     "text": [
      "False\n"
     ]
    }
   ],
   "source": [
    "print('Angel' in prettiest_ofc)"
   ]
  },
  {
   "cell_type": "code",
   "execution_count": 14,
   "id": "c716f219",
   "metadata": {},
   "outputs": [
    {
     "name": "stdout",
     "output_type": "stream",
     "text": [
      "True\n"
     ]
    }
   ],
   "source": [
    "print('Viona' in prettiest_ofc)"
   ]
  },
  {
   "cell_type": "code",
   "execution_count": 15,
   "id": "fbdc0f96",
   "metadata": {},
   "outputs": [
    {
     "name": "stdout",
     "output_type": "stream",
     "text": [
      "4\n"
     ]
    }
   ],
   "source": [
    "print(len(prettiest_ofc))"
   ]
  },
  {
   "cell_type": "markdown",
   "id": "e7c39335",
   "metadata": {},
   "source": [
    "# 5.14 For Loop"
   ]
  },
  {
   "cell_type": "code",
   "execution_count": 16,
   "id": "c83d64b5",
   "metadata": {},
   "outputs": [
    {
     "name": "stdout",
     "output_type": "stream",
     "text": [
      "Buffalo\n",
      "Manila\n",
      "Jagung\n",
      "Flanel\n",
      "HVS\n"
     ]
    }
   ],
   "source": [
    "kertas = ['Buffalo', 'Manila', 'Jagung', 'Flanel', 'HVS']\n",
    "for jenis in kertas :\n",
    "    print(jenis)"
   ]
  },
  {
   "cell_type": "code",
   "execution_count": 17,
   "id": "d6a269f1",
   "metadata": {},
   "outputs": [
    {
     "name": "stdout",
     "output_type": "stream",
     "text": [
      "Buffalo\n",
      "Manila\n",
      "Jagung\n",
      "Flanel\n",
      "HVS\n"
     ]
    }
   ],
   "source": [
    "i = 0\n",
    "while i < len(kertas):\n",
    "    print(kertas[i])\n",
    "    i += 1"
   ]
  },
  {
   "cell_type": "markdown",
   "id": "e6ba2db9",
   "metadata": {},
   "source": [
    "# 5.15 Fungsi Range"
   ]
  },
  {
   "cell_type": "code",
   "execution_count": 18,
   "id": "5ca371bc",
   "metadata": {},
   "outputs": [
    {
     "name": "stdout",
     "output_type": "stream",
     "text": [
      "range(0, 5)\n"
     ]
    }
   ],
   "source": [
    "angka = range(5)\n",
    "print(angka)"
   ]
  },
  {
   "cell_type": "code",
   "execution_count": 19,
   "id": "d72c7d51",
   "metadata": {},
   "outputs": [
    {
     "name": "stdout",
     "output_type": "stream",
     "text": [
      "0\n",
      "1\n",
      "2\n",
      "3\n",
      "4\n"
     ]
    }
   ],
   "source": [
    "for isi in angka :\n",
    "    print(isi)"
   ]
  },
  {
   "cell_type": "code",
   "execution_count": 20,
   "id": "93c9d256",
   "metadata": {},
   "outputs": [
    {
     "name": "stdout",
     "output_type": "stream",
     "text": [
      "5\n",
      "6\n",
      "7\n",
      "8\n",
      "9\n",
      "10\n",
      "11\n",
      "12\n",
      "13\n",
      "14\n"
     ]
    }
   ],
   "source": [
    "for isi in range(5,15) :\n",
    "    print(isi)"
   ]
  },
  {
   "cell_type": "code",
   "execution_count": 21,
   "id": "deb19c9e",
   "metadata": {},
   "outputs": [
    {
     "name": "stdout",
     "output_type": "stream",
     "text": [
      "0\n",
      "3\n",
      "6\n",
      "9\n",
      "12\n"
     ]
    }
   ],
   "source": [
    "for isi in range(0,15,3) :\n",
    "    print(isi)"
   ]
  },
  {
   "cell_type": "markdown",
   "id": "532b3971",
   "metadata": {},
   "source": [
    "# LATIHAN"
   ]
  },
  {
   "cell_type": "markdown",
   "id": "f0646b19",
   "metadata": {},
   "source": [
    "1. Buatlah program untuk mencari nilai terbesar di dalam suatu list.\n",
    "   \n",
    "   jawaban :"
   ]
  },
  {
   "cell_type": "code",
   "execution_count": 22,
   "id": "5a56e504",
   "metadata": {},
   "outputs": [
    {
     "name": "stdout",
     "output_type": "stream",
     "text": [
      "10\n"
     ]
    }
   ],
   "source": [
    "data = [1,3,5,6,3,4,2,8,5,6,10,2,3,1]\n",
    "terbesar = data[0]\n",
    "for i in range(len(data)) :\n",
    "    if data[i] > terbesar :\n",
    "        terbesar = data[i]\n",
    "print(terbesar)"
   ]
  },
  {
   "cell_type": "code",
   "execution_count": 23,
   "id": "2e604294",
   "metadata": {},
   "outputs": [
    {
     "name": "stdout",
     "output_type": "stream",
     "text": [
      "10\n"
     ]
    }
   ],
   "source": [
    "data = [1,3,5,6,3,4,2,8,5,6,10,2,3,1]\n",
    "terbesar = data[0]\n",
    "for angka in data :\n",
    "    if angka > terbesar :\n",
    "        terbesar = angka\n",
    "print(terbesar)"
   ]
  },
  {
   "cell_type": "markdown",
   "id": "82d9ef65",
   "metadata": {},
   "source": [
    "2. Buatlah program untuk membuat anggota list menjadi unik dengan kata lain tidak ada anggota list yang kembar.\n",
    "   \n",
    "   Jawaban :"
   ]
  },
  {
   "cell_type": "code",
   "execution_count": 24,
   "id": "5c47b25f",
   "metadata": {},
   "outputs": [
    {
     "name": "stdout",
     "output_type": "stream",
     "text": [
      "[1, 2, 3, 4, 5, 6, 7, 8, 9, 10]\n"
     ]
    }
   ],
   "source": [
    "angka = [1,2,3,4,4,5,6,5,6,7,8,9,7,8,7,10]\n",
    "angka_unik = []\n",
    "for anggota in angka :\n",
    "    if anggota not in angka_unik :\n",
    "        angka_unik.append(anggota)\n",
    "print(angka_unik)"
   ]
  },
  {
   "cell_type": "markdown",
   "id": "981beba2",
   "metadata": {},
   "source": [
    "# 5.16 List 2 Dimensi"
   ]
  },
  {
   "cell_type": "code",
   "execution_count": 25,
   "id": "8b581005",
   "metadata": {},
   "outputs": [
    {
     "name": "stdout",
     "output_type": "stream",
     "text": [
      "[[1, 2, 3, 4], [5, 6, 7, 8], [9, 10, 11, 12], [13, 14, 15, 16]]\n"
     ]
    }
   ],
   "source": [
    "matrik = [\n",
    "    [1,2,3,4],\n",
    "    [5,6,7,8],\n",
    "    [9,10,11,12],\n",
    "    [13,14,15,16]\n",
    "]\n",
    "print(matrik)"
   ]
  },
  {
   "cell_type": "code",
   "execution_count": 26,
   "id": "c9ad20eb",
   "metadata": {},
   "outputs": [
    {
     "data": {
      "text/plain": [
       "[5, 6, 7, 8]"
      ]
     },
     "execution_count": 26,
     "metadata": {},
     "output_type": "execute_result"
    }
   ],
   "source": [
    "matrik[1]"
   ]
  },
  {
   "cell_type": "code",
   "execution_count": 27,
   "id": "2b16468e",
   "metadata": {},
   "outputs": [
    {
     "data": {
      "text/plain": [
       "[1, 2, 3, 4]"
      ]
     },
     "execution_count": 27,
     "metadata": {},
     "output_type": "execute_result"
    }
   ],
   "source": [
    "matrik[0]"
   ]
  },
  {
   "cell_type": "code",
   "execution_count": 28,
   "id": "80e5743a",
   "metadata": {},
   "outputs": [
    {
     "data": {
      "text/plain": [
       "[13, 14, 15, 16]"
      ]
     },
     "execution_count": 28,
     "metadata": {},
     "output_type": "execute_result"
    }
   ],
   "source": [
    "matrik[3]"
   ]
  },
  {
   "cell_type": "code",
   "execution_count": 29,
   "id": "e5875813",
   "metadata": {},
   "outputs": [
    {
     "data": {
      "text/plain": [
       "[13, 14, 15, 16]"
      ]
     },
     "execution_count": 29,
     "metadata": {},
     "output_type": "execute_result"
    }
   ],
   "source": [
    "matrik[-1]"
   ]
  },
  {
   "cell_type": "code",
   "execution_count": 30,
   "id": "f8906185",
   "metadata": {},
   "outputs": [
    {
     "data": {
      "text/plain": [
       "2"
      ]
     },
     "execution_count": 30,
     "metadata": {},
     "output_type": "execute_result"
    }
   ],
   "source": [
    "matrik[0][1]"
   ]
  },
  {
   "cell_type": "code",
   "execution_count": 31,
   "id": "5e3bf885",
   "metadata": {},
   "outputs": [
    {
     "data": {
      "text/plain": [
       "4"
      ]
     },
     "execution_count": 31,
     "metadata": {},
     "output_type": "execute_result"
    }
   ],
   "source": [
    "matrik[0][3]"
   ]
  },
  {
   "cell_type": "code",
   "execution_count": 32,
   "id": "de134365",
   "metadata": {},
   "outputs": [
    {
     "data": {
      "text/plain": [
       "16"
      ]
     },
     "execution_count": 32,
     "metadata": {},
     "output_type": "execute_result"
    }
   ],
   "source": [
    "matrik[3][3]"
   ]
  },
  {
   "cell_type": "code",
   "execution_count": 33,
   "id": "d7ab67c4",
   "metadata": {},
   "outputs": [
    {
     "name": "stdout",
     "output_type": "stream",
     "text": [
      "500\n"
     ]
    }
   ],
   "source": [
    "matrik[3][3]=500\n",
    "print(matrik[3][3])"
   ]
  },
  {
   "cell_type": "code",
   "execution_count": 34,
   "id": "5acc8f78",
   "metadata": {},
   "outputs": [
    {
     "data": {
      "text/plain": [
       "[[1, 2, 3, 4], [5, 6, 7, 8], [9, 10, 11, 12], [13, 14, 15, 500]]"
      ]
     },
     "execution_count": 34,
     "metadata": {},
     "output_type": "execute_result"
    }
   ],
   "source": [
    "matrik"
   ]
  },
  {
   "cell_type": "code",
   "execution_count": 35,
   "id": "3ea0a288",
   "metadata": {},
   "outputs": [
    {
     "name": "stdout",
     "output_type": "stream",
     "text": [
      "[1, 2, 3, 4]\n",
      "1\n",
      "2\n",
      "3\n",
      "4\n",
      "[5, 6, 7, 8]\n",
      "5\n",
      "6\n",
      "7\n",
      "8\n",
      "[9, 10, 11, 12]\n",
      "9\n",
      "10\n",
      "11\n",
      "12\n",
      "[13, 14, 15, 500]\n",
      "13\n",
      "14\n",
      "15\n",
      "500\n"
     ]
    }
   ],
   "source": [
    "for baris in matrik :\n",
    "    print(baris)\n",
    "    for kolom in baris :\n",
    "        print(kolom)"
   ]
  },
  {
   "cell_type": "markdown",
   "id": "aa172003",
   "metadata": {},
   "source": [
    "# 5.17 Tuples"
   ]
  },
  {
   "cell_type": "code",
   "execution_count": 36,
   "id": "4a87e259",
   "metadata": {},
   "outputs": [],
   "source": [
    "angka = 0,1,1,2,3,3,4,5"
   ]
  },
  {
   "cell_type": "code",
   "execution_count": 37,
   "id": "89f11b77",
   "metadata": {},
   "outputs": [
    {
     "name": "stdout",
     "output_type": "stream",
     "text": [
      "0\n"
     ]
    }
   ],
   "source": [
    "print(angka[0])"
   ]
  },
  {
   "cell_type": "code",
   "execution_count": 39,
   "id": "51e8081a",
   "metadata": {},
   "outputs": [
    {
     "name": "stdout",
     "output_type": "stream",
     "text": [
      "0\n",
      "1\n",
      "1\n",
      "2\n"
     ]
    }
   ],
   "source": [
    "for isi in angka[0:4]:\n",
    "    print(isi)"
   ]
  },
  {
   "cell_type": "code",
   "execution_count": 40,
   "id": "25d5885d",
   "metadata": {},
   "outputs": [
    {
     "ename": "TypeError",
     "evalue": "'tuple' object does not support item assignment",
     "output_type": "error",
     "traceback": [
      "\u001b[1;31m---------------------------------------------------------------------------\u001b[0m",
      "\u001b[1;31mTypeError\u001b[0m                                 Traceback (most recent call last)",
      "\u001b[1;32m~\\AppData\\Local\\Temp/ipykernel_12208/2730028893.py\u001b[0m in \u001b[0;36m<module>\u001b[1;34m\u001b[0m\n\u001b[1;32m----> 1\u001b[1;33m \u001b[0mangka\u001b[0m\u001b[1;33m[\u001b[0m\u001b[1;36m0\u001b[0m\u001b[1;33m]\u001b[0m\u001b[1;33m=\u001b[0m\u001b[1;36m10\u001b[0m\u001b[1;33m\u001b[0m\u001b[1;33m\u001b[0m\u001b[0m\n\u001b[0m",
      "\u001b[1;31mTypeError\u001b[0m: 'tuple' object does not support item assignment"
     ]
    }
   ],
   "source": [
    "angka[0]=10"
   ]
  },
  {
   "cell_type": "code",
   "execution_count": 41,
   "id": "b6ad227e",
   "metadata": {},
   "outputs": [
    {
     "ename": "AttributeError",
     "evalue": "'tuple' object has no attribute 'append'",
     "output_type": "error",
     "traceback": [
      "\u001b[1;31m---------------------------------------------------------------------------\u001b[0m",
      "\u001b[1;31mAttributeError\u001b[0m                            Traceback (most recent call last)",
      "\u001b[1;32m~\\AppData\\Local\\Temp/ipykernel_12208/1086000304.py\u001b[0m in \u001b[0;36m<module>\u001b[1;34m\u001b[0m\n\u001b[1;32m----> 1\u001b[1;33m \u001b[0mangka\u001b[0m\u001b[1;33m.\u001b[0m\u001b[0mappend\u001b[0m\u001b[1;33m(\u001b[0m\u001b[1;36m10\u001b[0m\u001b[1;33m)\u001b[0m\u001b[1;33m\u001b[0m\u001b[1;33m\u001b[0m\u001b[0m\n\u001b[0m",
      "\u001b[1;31mAttributeError\u001b[0m: 'tuple' object has no attribute 'append'"
     ]
    }
   ],
   "source": [
    "angka.append(10)"
   ]
  },
  {
   "cell_type": "code",
   "execution_count": 42,
   "id": "4be7e80d",
   "metadata": {},
   "outputs": [
    {
     "ename": "AttributeError",
     "evalue": "'tuple' object has no attribute 'remove'",
     "output_type": "error",
     "traceback": [
      "\u001b[1;31m---------------------------------------------------------------------------\u001b[0m",
      "\u001b[1;31mAttributeError\u001b[0m                            Traceback (most recent call last)",
      "\u001b[1;32m~\\AppData\\Local\\Temp/ipykernel_12208/2892091948.py\u001b[0m in \u001b[0;36m<module>\u001b[1;34m\u001b[0m\n\u001b[1;32m----> 1\u001b[1;33m \u001b[0mangka\u001b[0m\u001b[1;33m.\u001b[0m\u001b[0mremove\u001b[0m\u001b[1;33m[\u001b[0m\u001b[1;36m5\u001b[0m\u001b[1;33m]\u001b[0m\u001b[1;33m\u001b[0m\u001b[1;33m\u001b[0m\u001b[0m\n\u001b[0m",
      "\u001b[1;31mAttributeError\u001b[0m: 'tuple' object has no attribute 'remove'"
     ]
    }
   ],
   "source": [
    "angka.remove[5]"
   ]
  },
  {
   "cell_type": "code",
   "execution_count": 43,
   "id": "e3357c2a",
   "metadata": {},
   "outputs": [
    {
     "ename": "TypeError",
     "evalue": "'tuple' object does not support item assignment",
     "output_type": "error",
     "traceback": [
      "\u001b[1;31m---------------------------------------------------------------------------\u001b[0m",
      "\u001b[1;31mTypeError\u001b[0m                                 Traceback (most recent call last)",
      "\u001b[1;32m~\\AppData\\Local\\Temp/ipykernel_12208/3383697927.py\u001b[0m in \u001b[0;36m<module>\u001b[1;34m\u001b[0m\n\u001b[1;32m----> 1\u001b[1;33m \u001b[0mangka\u001b[0m\u001b[1;33m[\u001b[0m\u001b[1;36m0\u001b[0m\u001b[1;33m]\u001b[0m\u001b[1;33m=\u001b[0m\u001b[1;36m10\u001b[0m\u001b[1;33m\u001b[0m\u001b[1;33m\u001b[0m\u001b[0m\n\u001b[0m\u001b[0;32m      2\u001b[0m \u001b[0mprint\u001b[0m\u001b[1;33m(\u001b[0m\u001b[0mangka\u001b[0m\u001b[1;33m[\u001b[0m\u001b[1;36m0\u001b[0m\u001b[1;33m]\u001b[0m\u001b[1;33m)\u001b[0m\u001b[1;33m\u001b[0m\u001b[1;33m\u001b[0m\u001b[0m\n",
      "\u001b[1;31mTypeError\u001b[0m: 'tuple' object does not support item assignment"
     ]
    }
   ],
   "source": [
    "angka[0]=10\n",
    "print(angka[0])"
   ]
  },
  {
   "cell_type": "code",
   "execution_count": 44,
   "id": "a79b6c2f",
   "metadata": {},
   "outputs": [
    {
     "data": {
      "text/plain": [
       "2"
      ]
     },
     "execution_count": 44,
     "metadata": {},
     "output_type": "execute_result"
    }
   ],
   "source": [
    "angka.count(3)"
   ]
  },
  {
   "cell_type": "code",
   "execution_count": 45,
   "id": "b8671d73",
   "metadata": {},
   "outputs": [
    {
     "data": {
      "text/plain": [
       "4"
      ]
     },
     "execution_count": 45,
     "metadata": {},
     "output_type": "execute_result"
    }
   ],
   "source": [
    "angka.index(3)"
   ]
  },
  {
   "cell_type": "code",
   "execution_count": 46,
   "id": "0b844fa8",
   "metadata": {},
   "outputs": [
    {
     "data": {
      "text/plain": [
       "7"
      ]
     },
     "execution_count": 46,
     "metadata": {},
     "output_type": "execute_result"
    }
   ],
   "source": [
    "angka.index(5)"
   ]
  },
  {
   "cell_type": "markdown",
   "id": "7faf685a",
   "metadata": {},
   "source": [
    "# 5.18 Dictionaries"
   ]
  },
  {
   "cell_type": "code",
   "execution_count": 47,
   "id": "921c348f",
   "metadata": {},
   "outputs": [],
   "source": [
    "data_orang = {\n",
    "    \"nama\" : \"Viona Amelia\",\n",
    "    \"umur\" : 18,\n",
    "    \"apakah_singel\" : False\n",
    "}"
   ]
  },
  {
   "cell_type": "code",
   "execution_count": 48,
   "id": "3ad7c4be",
   "metadata": {},
   "outputs": [
    {
     "name": "stdout",
     "output_type": "stream",
     "text": [
      "Viona Amelia\n"
     ]
    }
   ],
   "source": [
    "print(data_orang['nama'])"
   ]
  },
  {
   "cell_type": "code",
   "execution_count": 49,
   "id": "beca0872",
   "metadata": {},
   "outputs": [
    {
     "ename": "KeyError",
     "evalue": "'Nama'",
     "output_type": "error",
     "traceback": [
      "\u001b[1;31m---------------------------------------------------------------------------\u001b[0m",
      "\u001b[1;31mKeyError\u001b[0m                                  Traceback (most recent call last)",
      "\u001b[1;32m~\\AppData\\Local\\Temp/ipykernel_12208/1883148979.py\u001b[0m in \u001b[0;36m<module>\u001b[1;34m\u001b[0m\n\u001b[1;32m----> 1\u001b[1;33m \u001b[0mprint\u001b[0m\u001b[1;33m(\u001b[0m\u001b[0mdata_orang\u001b[0m\u001b[1;33m[\u001b[0m\u001b[1;34m'Nama'\u001b[0m\u001b[1;33m]\u001b[0m\u001b[1;33m)\u001b[0m\u001b[1;33m\u001b[0m\u001b[1;33m\u001b[0m\u001b[0m\n\u001b[0m",
      "\u001b[1;31mKeyError\u001b[0m: 'Nama'"
     ]
    }
   ],
   "source": [
    "print(data_orang['Nama'])"
   ]
  },
  {
   "cell_type": "code",
   "execution_count": 50,
   "id": "fbd269e7",
   "metadata": {},
   "outputs": [
    {
     "name": "stdout",
     "output_type": "stream",
     "text": [
      "Viona Amelia\n"
     ]
    }
   ],
   "source": [
    "print(data_orang.get('nama'))"
   ]
  },
  {
   "cell_type": "code",
   "execution_count": 51,
   "id": "1aba55f1",
   "metadata": {},
   "outputs": [
    {
     "name": "stdout",
     "output_type": "stream",
     "text": [
      "None\n"
     ]
    }
   ],
   "source": [
    "print(data_orang.get('Nama'))"
   ]
  },
  {
   "cell_type": "code",
   "execution_count": 52,
   "id": "4ae024f1",
   "metadata": {},
   "outputs": [
    {
     "name": "stdout",
     "output_type": "stream",
     "text": [
      "None\n"
     ]
    }
   ],
   "source": [
    "print(data_orang.get('tangga_lahir'))"
   ]
  },
  {
   "cell_type": "code",
   "execution_count": 53,
   "id": "28d702ea",
   "metadata": {},
   "outputs": [
    {
     "name": "stdout",
     "output_type": "stream",
     "text": [
      "2-2-2022\n"
     ]
    }
   ],
   "source": [
    "print(data_orang.get('tanggal_lahir', '2-2-2022'))"
   ]
  },
  {
   "cell_type": "code",
   "execution_count": 54,
   "id": "77d1dc3f",
   "metadata": {},
   "outputs": [
    {
     "name": "stdout",
     "output_type": "stream",
     "text": [
      "{'nama': 'Viona Amelia', 'umur': 18, 'apakah_singel': False}\n"
     ]
    }
   ],
   "source": [
    "print(data_orang)"
   ]
  },
  {
   "cell_type": "code",
   "execution_count": 55,
   "id": "b4508d56",
   "metadata": {},
   "outputs": [
    {
     "ename": "KeyError",
     "evalue": "'tanggal_lahir'",
     "output_type": "error",
     "traceback": [
      "\u001b[1;31m---------------------------------------------------------------------------\u001b[0m",
      "\u001b[1;31mKeyError\u001b[0m                                  Traceback (most recent call last)",
      "\u001b[1;32m~\\AppData\\Local\\Temp/ipykernel_12208/3463751171.py\u001b[0m in \u001b[0;36m<module>\u001b[1;34m\u001b[0m\n\u001b[1;32m----> 1\u001b[1;33m \u001b[0mprint\u001b[0m\u001b[1;33m(\u001b[0m\u001b[0mdata_orang\u001b[0m\u001b[1;33m[\u001b[0m\u001b[1;34m\"tanggal_lahir\"\u001b[0m\u001b[1;33m]\u001b[0m\u001b[1;33m)\u001b[0m\u001b[1;33m\u001b[0m\u001b[1;33m\u001b[0m\u001b[0m\n\u001b[0m",
      "\u001b[1;31mKeyError\u001b[0m: 'tanggal_lahir'"
     ]
    }
   ],
   "source": [
    "print(data_orang[\"tanggal_lahir\"])"
   ]
  },
  {
   "cell_type": "code",
   "execution_count": 56,
   "id": "efb60d2b",
   "metadata": {},
   "outputs": [
    {
     "ename": "KeyError",
     "evalue": "'tanggal_lahir'",
     "output_type": "error",
     "traceback": [
      "\u001b[1;31m---------------------------------------------------------------------------\u001b[0m",
      "\u001b[1;31mKeyError\u001b[0m                                  Traceback (most recent call last)",
      "\u001b[1;32m~\\AppData\\Local\\Temp/ipykernel_12208/2691617453.py\u001b[0m in \u001b[0;36m<module>\u001b[1;34m\u001b[0m\n\u001b[1;32m----> 1\u001b[1;33m \u001b[0mprint\u001b[0m\u001b[1;33m(\u001b[0m\u001b[0mdata_orang\u001b[0m\u001b[1;33m[\u001b[0m\u001b[1;34m'tanggal_lahir'\u001b[0m\u001b[1;33m]\u001b[0m\u001b[1;33m)\u001b[0m\u001b[1;33m\u001b[0m\u001b[1;33m\u001b[0m\u001b[0m\n\u001b[0m",
      "\u001b[1;31mKeyError\u001b[0m: 'tanggal_lahir'"
     ]
    }
   ],
   "source": [
    "print(data_orang['tanggal_lahir'])"
   ]
  },
  {
   "cell_type": "code",
   "execution_count": 57,
   "id": "e5c12946",
   "metadata": {},
   "outputs": [],
   "source": [
    "data_orang['HP'] = '089876543210'"
   ]
  },
  {
   "cell_type": "code",
   "execution_count": 58,
   "id": "7bda63f7",
   "metadata": {},
   "outputs": [
    {
     "name": "stdout",
     "output_type": "stream",
     "text": [
      "089876543210\n"
     ]
    }
   ],
   "source": [
    "print(data_orang[\"HP\"])"
   ]
  },
  {
   "cell_type": "code",
   "execution_count": 59,
   "id": "81f17b15",
   "metadata": {},
   "outputs": [
    {
     "name": "stdout",
     "output_type": "stream",
     "text": [
      "{'nama': 'Viona Amelia', 'umur': 18, 'apakah_singel': False, 'HP': '089876543210'}\n"
     ]
    }
   ],
   "source": [
    "print(data_orang)"
   ]
  },
  {
   "cell_type": "markdown",
   "id": "4bdcf019",
   "metadata": {},
   "source": [
    "# LATIHAN"
   ]
  },
  {
   "cell_type": "markdown",
   "id": "5411f73d",
   "metadata": {},
   "source": [
    "Buatlah program untuk merubah nomor HP yang tadinya berupa angka menjadi sebutan bilangan tersebut. Misalnya angka 0812 akan menjadi nol delapan satu dua."
   ]
  },
  {
   "cell_type": "code",
   "execution_count": 60,
   "id": "db93a856",
   "metadata": {},
   "outputs": [],
   "source": [
    "angka = {\n",
    "    \"0\" : \"nol\",\n",
    "    \"1\" : \"satu\",\n",
    "    \"2\" : \"dua\",\n",
    "    \"3\" : \"tiga\",\n",
    "    \"4\" : \"empat\",\n",
    "    \"5\" : \"lima\",\n",
    "    \"6\" : \"enam\",\n",
    "    \"7\" : \"tujuh\",\n",
    "    \"8\" : \"delapan\",\n",
    "    \"9\" : \"sembilan\"\n",
    "}"
   ]
  },
  {
   "cell_type": "code",
   "execution_count": 61,
   "id": "2d4536ed",
   "metadata": {},
   "outputs": [
    {
     "name": "stdout",
     "output_type": "stream",
     "text": [
      "Masukkan nomor HP anda 0812345678901\n",
      "nol delapan satu dua tiga empat lima enam tujuh delapan sembilan nol satu \n"
     ]
    }
   ],
   "source": [
    "nomor_HP = input(\"Masukkan nomor HP anda \")\n",
    "nomor_angka = \"\"\n",
    "for isi in nomor_HP:\n",
    "    nomor_angka += angka.get(isi) + \" \"\n",
    "print(nomor_angka)"
   ]
  },
  {
   "cell_type": "code",
   "execution_count": 63,
   "id": "0bdd1f42",
   "metadata": {},
   "outputs": [],
   "source": [
    "def full_name(first_name,last_name):\n",
    "    print(f\"Nama lengkapnya adalah {first_name} {last_name}\")"
   ]
  },
  {
   "cell_type": "code",
   "execution_count": 64,
   "id": "a114d608",
   "metadata": {},
   "outputs": [
    {
     "name": "stdout",
     "output_type": "stream",
     "text": [
      "Nama depan anda adalah Viona\n",
      "Nama belakang anda adalah Amelia\n",
      "Nama lengkapnya adalah Viona Amelia\n"
     ]
    }
   ],
   "source": [
    "first_name = input(\"Nama depan anda adalah \")\n",
    "last_name = input(\"Nama belakang anda adalah \")\n",
    "full_name(first_name,last_name)"
   ]
  },
  {
   "cell_type": "markdown",
   "id": "456c8b57",
   "metadata": {},
   "source": [
    "# 5.19.1 Tugas dan Fungsi pada Python"
   ]
  },
  {
   "cell_type": "code",
   "execution_count": 65,
   "id": "87c4d585",
   "metadata": {},
   "outputs": [],
   "source": [
    "def waktu_sampai(jarak,kecepatan) :\n",
    "    waktu = jarak/kecepatan\n",
    "    print(waktu)"
   ]
  },
  {
   "cell_type": "code",
   "execution_count": 66,
   "id": "c728b14d",
   "metadata": {},
   "outputs": [],
   "source": [
    "def waktu_tempuh(jarak,kecepatan) :\n",
    "    waktu = jarak/kecepatan\n",
    "    return waktu"
   ]
  },
  {
   "cell_type": "code",
   "execution_count": 67,
   "id": "0845739e",
   "metadata": {},
   "outputs": [
    {
     "name": "stdout",
     "output_type": "stream",
     "text": [
      "1.25\n"
     ]
    }
   ],
   "source": [
    "waktu_sampai(100,80)"
   ]
  },
  {
   "cell_type": "code",
   "execution_count": 68,
   "id": "080f7ca9",
   "metadata": {},
   "outputs": [
    {
     "data": {
      "text/plain": [
       "1.25"
      ]
     },
     "execution_count": 68,
     "metadata": {},
     "output_type": "execute_result"
    }
   ],
   "source": [
    "waktu_tempuh(100,80)"
   ]
  },
  {
   "cell_type": "code",
   "execution_count": 69,
   "id": "9943f53e",
   "metadata": {},
   "outputs": [
    {
     "name": "stdout",
     "output_type": "stream",
     "text": [
      "1.25\n",
      "None\n"
     ]
    }
   ],
   "source": [
    "a = waktu_sampai(100,80)\n",
    "print(a)"
   ]
  },
  {
   "cell_type": "code",
   "execution_count": 70,
   "id": "5e363380",
   "metadata": {},
   "outputs": [
    {
     "name": "stdout",
     "output_type": "stream",
     "text": [
      "1.25\n"
     ]
    }
   ],
   "source": [
    "b = waktu_tempuh(100,80)\n",
    "print(b)"
   ]
  },
  {
   "cell_type": "markdown",
   "id": "256b56e2",
   "metadata": {},
   "source": [
    "# LATIHAN"
   ]
  },
  {
   "cell_type": "markdown",
   "id": "61c650aa",
   "metadata": {},
   "source": [
    "Buatlah program yang menggunakan fungsi Python untuk menghitung luas segitiga, lingkaran, persegi dan persegi panjang. Selain itu berikan peringatan bagi bidang lain yang tidak termasuk perhitungan."
   ]
  },
  {
   "cell_type": "code",
   "execution_count": 72,
   "id": "009b81e9",
   "metadata": {},
   "outputs": [],
   "source": [
    "import numpy as np"
   ]
  },
  {
   "cell_type": "code",
   "execution_count": 73,
   "id": "503e8772",
   "metadata": {},
   "outputs": [],
   "source": [
    "def luas_segitiga(alas,tinggi) :\n",
    "    luas = (1/2)*alas*tinggi\n",
    "    return luas\n",
    "def luas_lingkaran(jari_jari) :\n",
    "    luas = np.pi*(jari_jari**2)\n",
    "    return luas\n",
    "def luas_persegi(sisi) : \n",
    "    luas = sisi**2\n",
    "    return luas\n",
    "def luas_persegi_panjang(panjang,lebar) :\n",
    "    luas = panjang*lebar\n",
    "    return luas"
   ]
  },
  {
   "cell_type": "code",
   "execution_count": 74,
   "id": "159ac374",
   "metadata": {},
   "outputs": [
    {
     "name": "stdout",
     "output_type": "stream",
     "text": [
      "Tulis jenis bidangnya BELAH KETUPAT\n",
      "Oops! Maaf bidang BELAH KETUPAT yang anda masukkan tidak ada.\n",
      "Pilihan yang tertera hanya ada SEGITIGA, LINGKARAN, PERSEGI dan PERSEGI PANJANG.\n",
      "Terimakasih\n"
     ]
    }
   ],
   "source": [
    "jenis_bidang = input(\"Tulis jenis bidangnya \")\n",
    "if jenis_bidang.upper() == 'SEGITIGA' :\n",
    "    alas = float(input('Berapakah panjang alasnya? '))\n",
    "    tinggi = float(input('Berapakah tingginya? '))\n",
    "    luas = luas_segitiga(alas,tinggi)\n",
    "    print(f\"Luas {jenis_bidang} adalah {luas}\")\n",
    "elif jenis_bidang.upper() == 'LINGKARAN':\n",
    "    jari_jari = float(input('Berapakah panjang jari-jarinya? '))\n",
    "    luas = luas_lingkaran(jari_jari)\n",
    "    print(f\"Luas {jenis_bidang} adalah {luas}\")\n",
    "elif jenis_bidang.upper() == 'PERSEGI' or (jenis_bidang.upper() == 'BUJUR SANGKAR'): \n",
    "    sisi = float(input('Berapakah panjang sisinya? '))\n",
    "    luas = luas_persegi(sisi)\n",
    "    print(f\"Luas {jenis_bidang} adalah {luas}\")\n",
    "elif jenis_bidang.upper() == 'PERSEGI PANJANG':\n",
    "    panjang = float(input('Berapakah panjangnya? '))\n",
    "    lebar = float(input('Berapakah 1ebarnya? '))\n",
    "    luas = luas_persegi_panjang(panjang,lebar)\n",
    "    print(f\"Luas {jenis_bidang} adalah {luas}\")\n",
    "else:\n",
    "    print(f\"Oops! Maaf bidang {jenis_bidang} yang anda masukkan tidak ada.\")\n",
    "    print(\"Pilihan yang tertera hanya ada SEGITIGA, LINGKARAN, PERSEGI dan PERSEGI PANJANG.\")\n",
    "    print('Terimakasih')"
   ]
  },
  {
   "cell_type": "code",
   "execution_count": 109,
   "id": "bcfcfd10",
   "metadata": {},
   "outputs": [],
   "source": [
    "def volume_kubus(sisi) :\n",
    "    volume = sisi**3\n",
    "    return volume\n",
    "def volume_tabung(jari_jari,tinggi) :\n",
    "    volume = np.pi*(jari_jari**2)*tinggi\n",
    "    return volume\n",
    "def volume_balok(panjang,lebar,tinggi) : \n",
    "    volume = panjang*lebar*tinggi\n",
    "    return volume\n",
    "def volume_bola(jari_jari) :\n",
    "    volume = 4/3*np.pi*(jari_jari**3)\n",
    "    return volume"
   ]
  },
  {
   "cell_type": "code",
   "execution_count": 112,
   "id": "e4ce7433",
   "metadata": {},
   "outputs": [
    {
     "name": "stdout",
     "output_type": "stream",
     "text": [
      "Tulis jenis bidangnya TABUNG\n",
      "Berapakah panjang jari-jarinya? 7\n",
      "Berapakah tinggi tabung? 10\n",
      "Volume TABUNG adalah 1539.3804002589986\n"
     ]
    }
   ],
   "source": [
    "jenis_bidang = input(\"Tulis jenis bidangnya \")\n",
    "if jenis_bidang.upper() == 'KUBUS' :\n",
    "    sisi = float(input('Berapa panjang sisinya? '))\n",
    "    volume = volume_kubus(sisi)\n",
    "    print(f\"Volume {jenis_bidang} adalah {volume}\")\n",
    "elif jenis_bidang.upper() == 'TABUNG':\n",
    "    jari_jari = float(input('Berapakah panjang jari-jarinya? '))\n",
    "    tinggi = float(input('Berapakah tinggi tabung? '))\n",
    "    volume = volume_tabung(jari_jari,tinggi)\n",
    "    print(f\"Volume {jenis_bidang} adalah {volume}\")\n",
    "elif jenis_bidang.upper() == 'BALOK':\n",
    "    panjang = float(input('Berapakah panjang sisinya? '))\n",
    "    lebar = float(input('Berapakah lebarnya? '))\n",
    "    tinggi = float(input('Berapakah tingginya? '))\n",
    "    volume = volume_balok(panjang,lebar,tinggi)\n",
    "    print(f\"Volume {jenis_bidang} adalah {volume}\")\n",
    "elif jenis_bidang.upper() == 'BOLA':\n",
    "    jari_jari = float(input('Berapakah panjang jari-jari? '))\n",
    "    volume = volume_bola(jari_jari)\n",
    "    print(f\"Volume {jenis_bidang} adalah {volume}\")\n",
    "else:\n",
    "    print(f\"Oops! Maaf bidang {jenis_bidang} yang anda masukkan tidak ada.\")\n",
    "    print(\"Pilihan yang tertera hanya ada KUBUS, TABUNG, BALOK, BOLA.\")\n",
    "    print('Terimakasih')"
   ]
  }
 ],
 "metadata": {
  "kernelspec": {
   "display_name": "Python 3 (ipykernel)",
   "language": "python",
   "name": "python3"
  },
  "language_info": {
   "codemirror_mode": {
    "name": "ipython",
    "version": 3
   },
   "file_extension": ".py",
   "mimetype": "text/x-python",
   "name": "python",
   "nbconvert_exporter": "python",
   "pygments_lexer": "ipython3",
   "version": "3.9.7"
  }
 },
 "nbformat": 4,
 "nbformat_minor": 5
}
